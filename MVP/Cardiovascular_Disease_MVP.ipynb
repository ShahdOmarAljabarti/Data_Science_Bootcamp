{
 "cells": [
  {
   "cell_type": "markdown",
   "id": "7d80ec19",
   "metadata": {},
   "source": [
    "# Cardiovascular Disease \n",
    "Predict the presence cardiovascular disease"
   ]
  },
  {
   "cell_type": "markdown",
   "id": "b3d31b39",
   "metadata": {},
   "source": [
    "This project aims to explore the different features that might increase or affect the chance of cardiovascular disease \n",
    "occurrence and then use the extracted knowledge to determine whether a person is at risk of cardiovascular disease or not."
   ]
  },
  {
   "cell_type": "markdown",
   "id": "90271644",
   "metadata": {},
   "source": [
    "To start exploring this goal, I used a logistic regression model with 10 features to determine whether a person is at risk of cardiovascular disease or not.\n",
    "the following outputs is answering the question."
   ]
  },
  {
   "cell_type": "markdown",
   "id": "2812bf12",
   "metadata": {},
   "source": [
    "## 1. Data Acquisition"
   ]
  },
  {
   "cell_type": "code",
   "execution_count": 362,
   "id": "c73c79dc",
   "metadata": {},
   "outputs": [],
   "source": [
    "import pandas as pd\n",
    "import numpy as np\n",
    "import matplotlib.pyplot as plt\n",
    "import seaborn as sns\n",
    "from sklearn.linear_model import LogisticRegression\n",
    "from sklearn.model_selection import train_test_split\n",
    "from sklearn.metrics import precision_score, recall_score, accuracy_score, roc_auc_score\n",
    "from sklearn.metrics import confusion_matrix\n",
    "from sklearn.preprocessing import StandardScaler\n",
    "from sklearn.metrics import roc_auc_score, roc_curve\n",
    "from sklearn.metrics import precision_score, recall_score, precision_recall_curve,f1_score, fbeta_score"
   ]
  },
  {
   "cell_type": "code",
   "execution_count": 363,
   "id": "9b1ffbd5",
   "metadata": {},
   "outputs": [],
   "source": [
    "Cardio_Disease = pd.read_csv('C:/Users/Omar/Downloads/Cardio_Disease.csv')"
   ]
  },
  {
   "cell_type": "markdown",
   "id": "a9eceb2a",
   "metadata": {},
   "source": [
    "## 2. Data Understanding & Cleansing"
   ]
  },
  {
   "cell_type": "code",
   "execution_count": 364,
   "id": "4db708e2",
   "metadata": {},
   "outputs": [
    {
     "name": "stdout",
     "output_type": "stream",
     "text": [
      "<class 'pandas.core.frame.DataFrame'>\n",
      "RangeIndex: 70000 entries, 0 to 69999\n",
      "Data columns (total 13 columns):\n",
      " #   Column       Non-Null Count  Dtype  \n",
      "---  ------       --------------  -----  \n",
      " 0   id           70000 non-null  int64  \n",
      " 1   age          70000 non-null  int64  \n",
      " 2   gender       70000 non-null  int64  \n",
      " 3   height       69996 non-null  float64\n",
      " 4   weight       70000 non-null  float64\n",
      " 5   ap_hi        69997 non-null  float64\n",
      " 6   ap_lo        69999 non-null  float64\n",
      " 7   cholesterol  70000 non-null  int64  \n",
      " 8   gluc         70000 non-null  int64  \n",
      " 9   smoke        69999 non-null  float64\n",
      " 10  alco         70000 non-null  int64  \n",
      " 11  active       70000 non-null  int64  \n",
      " 12  cardio       70000 non-null  int64  \n",
      "dtypes: float64(5), int64(8)\n",
      "memory usage: 6.9 MB\n"
     ]
    }
   ],
   "source": [
    "Cardio_Disease.info()"
   ]
  },
  {
   "cell_type": "code",
   "execution_count": 365,
   "id": "dd477183",
   "metadata": {},
   "outputs": [
    {
     "data": {
      "text/plain": [
       "9"
      ]
     },
     "execution_count": 365,
     "metadata": {},
     "output_type": "execute_result"
    }
   ],
   "source": [
    "Cardio_Disease.isna().sum().sum()"
   ]
  },
  {
   "cell_type": "code",
   "execution_count": 366,
   "id": "14868e1a",
   "metadata": {},
   "outputs": [
    {
     "data": {
      "text/plain": [
       "(70000, 13)"
      ]
     },
     "execution_count": 366,
     "metadata": {},
     "output_type": "execute_result"
    }
   ],
   "source": [
    "Cardio_Disease.shape"
   ]
  },
  {
   "cell_type": "code",
   "execution_count": 367,
   "id": "fe2e01e8",
   "metadata": {
    "scrolled": true
   },
   "outputs": [
    {
     "data": {
      "text/html": [
       "<div>\n",
       "<style scoped>\n",
       "    .dataframe tbody tr th:only-of-type {\n",
       "        vertical-align: middle;\n",
       "    }\n",
       "\n",
       "    .dataframe tbody tr th {\n",
       "        vertical-align: top;\n",
       "    }\n",
       "\n",
       "    .dataframe thead th {\n",
       "        text-align: right;\n",
       "    }\n",
       "</style>\n",
       "<table border=\"1\" class=\"dataframe\">\n",
       "  <thead>\n",
       "    <tr style=\"text-align: right;\">\n",
       "      <th></th>\n",
       "      <th>id</th>\n",
       "      <th>age</th>\n",
       "      <th>gender</th>\n",
       "      <th>height</th>\n",
       "      <th>weight</th>\n",
       "      <th>ap_hi</th>\n",
       "      <th>ap_lo</th>\n",
       "      <th>cholesterol</th>\n",
       "      <th>gluc</th>\n",
       "      <th>smoke</th>\n",
       "      <th>alco</th>\n",
       "      <th>active</th>\n",
       "      <th>cardio</th>\n",
       "    </tr>\n",
       "  </thead>\n",
       "  <tbody>\n",
       "    <tr>\n",
       "      <th>0</th>\n",
       "      <td>0</td>\n",
       "      <td>18393</td>\n",
       "      <td>2</td>\n",
       "      <td>168.0</td>\n",
       "      <td>62.0</td>\n",
       "      <td>110.0</td>\n",
       "      <td>80.0</td>\n",
       "      <td>1</td>\n",
       "      <td>1</td>\n",
       "      <td>0.0</td>\n",
       "      <td>0</td>\n",
       "      <td>1</td>\n",
       "      <td>0</td>\n",
       "    </tr>\n",
       "    <tr>\n",
       "      <th>1</th>\n",
       "      <td>1</td>\n",
       "      <td>20228</td>\n",
       "      <td>1</td>\n",
       "      <td>156.0</td>\n",
       "      <td>85.0</td>\n",
       "      <td>140.0</td>\n",
       "      <td>90.0</td>\n",
       "      <td>3</td>\n",
       "      <td>1</td>\n",
       "      <td>0.0</td>\n",
       "      <td>0</td>\n",
       "      <td>1</td>\n",
       "      <td>1</td>\n",
       "    </tr>\n",
       "    <tr>\n",
       "      <th>2</th>\n",
       "      <td>2</td>\n",
       "      <td>18857</td>\n",
       "      <td>1</td>\n",
       "      <td>165.0</td>\n",
       "      <td>64.0</td>\n",
       "      <td>130.0</td>\n",
       "      <td>70.0</td>\n",
       "      <td>3</td>\n",
       "      <td>1</td>\n",
       "      <td>0.0</td>\n",
       "      <td>0</td>\n",
       "      <td>0</td>\n",
       "      <td>1</td>\n",
       "    </tr>\n",
       "    <tr>\n",
       "      <th>3</th>\n",
       "      <td>3</td>\n",
       "      <td>17623</td>\n",
       "      <td>2</td>\n",
       "      <td>169.0</td>\n",
       "      <td>82.0</td>\n",
       "      <td>150.0</td>\n",
       "      <td>100.0</td>\n",
       "      <td>1</td>\n",
       "      <td>1</td>\n",
       "      <td>0.0</td>\n",
       "      <td>0</td>\n",
       "      <td>1</td>\n",
       "      <td>1</td>\n",
       "    </tr>\n",
       "    <tr>\n",
       "      <th>4</th>\n",
       "      <td>4</td>\n",
       "      <td>17474</td>\n",
       "      <td>1</td>\n",
       "      <td>156.0</td>\n",
       "      <td>56.0</td>\n",
       "      <td>100.0</td>\n",
       "      <td>60.0</td>\n",
       "      <td>1</td>\n",
       "      <td>1</td>\n",
       "      <td>0.0</td>\n",
       "      <td>0</td>\n",
       "      <td>0</td>\n",
       "      <td>0</td>\n",
       "    </tr>\n",
       "  </tbody>\n",
       "</table>\n",
       "</div>"
      ],
      "text/plain": [
       "   id    age  gender  height  weight  ap_hi  ap_lo  cholesterol  gluc  smoke  \\\n",
       "0   0  18393       2   168.0    62.0  110.0   80.0            1     1    0.0   \n",
       "1   1  20228       1   156.0    85.0  140.0   90.0            3     1    0.0   \n",
       "2   2  18857       1   165.0    64.0  130.0   70.0            3     1    0.0   \n",
       "3   3  17623       2   169.0    82.0  150.0  100.0            1     1    0.0   \n",
       "4   4  17474       1   156.0    56.0  100.0   60.0            1     1    0.0   \n",
       "\n",
       "   alco  active  cardio  \n",
       "0     0       1       0  \n",
       "1     0       1       1  \n",
       "2     0       0       1  \n",
       "3     0       1       1  \n",
       "4     0       0       0  "
      ]
     },
     "execution_count": 367,
     "metadata": {},
     "output_type": "execute_result"
    }
   ],
   "source": [
    "Cardio_Disease.head()"
   ]
  },
  {
   "cell_type": "markdown",
   "id": "97d84ca7",
   "metadata": {},
   "source": [
    "#### - rename some columns to understandable names "
   ]
  },
  {
   "cell_type": "code",
   "execution_count": 368,
   "id": "472462af",
   "metadata": {},
   "outputs": [
    {
     "name": "stdout",
     "output_type": "stream",
     "text": [
      "<class 'pandas.core.frame.DataFrame'>\n",
      "RangeIndex: 70000 entries, 0 to 69999\n",
      "Data columns (total 13 columns):\n",
      " #   Column                    Non-Null Count  Dtype  \n",
      "---  ------                    --------------  -----  \n",
      " 0   id                        70000 non-null  int64  \n",
      " 1   age_days                  70000 non-null  int64  \n",
      " 2   gender                    70000 non-null  int64  \n",
      " 3   height                    69996 non-null  float64\n",
      " 4   weight                    70000 non-null  float64\n",
      " 5   Systolic_blood_pressure   69997 non-null  float64\n",
      " 6   Diastolic_blood_pressure  69999 non-null  float64\n",
      " 7   cholesterol               70000 non-null  int64  \n",
      " 8   Glucose                   70000 non-null  int64  \n",
      " 9   smoke                     69999 non-null  float64\n",
      " 10  Alcohol_intake            70000 non-null  int64  \n",
      " 11  Physical_activity         70000 non-null  int64  \n",
      " 12  cardio_disease_presence   70000 non-null  int64  \n",
      "dtypes: float64(5), int64(8)\n",
      "memory usage: 6.9 MB\n"
     ]
    }
   ],
   "source": [
    "Cardio_Disease.rename(columns={\n",
    "    'age' : 'age_days',\n",
    "    'ap_hi' : 'Systolic_blood_pressure',\n",
    "    'ap_lo' : 'Diastolic_blood_pressure',\n",
    "    'alco' : 'Alcohol_intake',\n",
    "    'active' : 'Physical_activity',\n",
    "    'cardio' : 'cardio_disease_presence',\n",
    "    'gluc' : 'Glucose'\n",
    "}, inplace = True)\n",
    "Cardio_Disease.info()"
   ]
  },
  {
   "cell_type": "code",
   "execution_count": 369,
   "id": "2a6fb134",
   "metadata": {},
   "outputs": [
    {
     "data": {
      "text/plain": [
       "(70000, 13)"
      ]
     },
     "execution_count": 369,
     "metadata": {},
     "output_type": "execute_result"
    }
   ],
   "source": [
    "Cardio_Disease.shape"
   ]
  },
  {
   "cell_type": "code",
   "execution_count": 370,
   "id": "dcd0f528",
   "metadata": {},
   "outputs": [
    {
     "data": {
      "text/plain": [
       "(70000, 13)"
      ]
     },
     "execution_count": 370,
     "metadata": {},
     "output_type": "execute_result"
    }
   ],
   "source": [
    "Cardio_Disease.drop_duplicates().shape"
   ]
  },
  {
   "cell_type": "markdown",
   "id": "4c2727ec",
   "metadata": {},
   "source": [
    "#### - Fill the null values & drop rows with missing value"
   ]
  },
  {
   "cell_type": "code",
   "execution_count": 371,
   "id": "886d3e9a",
   "metadata": {},
   "outputs": [
    {
     "data": {
      "text/plain": [
       "(70000, 13)"
      ]
     },
     "execution_count": 371,
     "metadata": {},
     "output_type": "execute_result"
    }
   ],
   "source": [
    "Cardio_Disease.height = Cardio_Disease.height.fillna(round(Cardio_Disease.height.mean()))\n",
    "Cardio_Disease.Systolic_blood_pressure = Cardio_Disease.Systolic_blood_pressure.fillna(Cardio_Disease.Systolic_blood_pressure.mean())\n",
    "Cardio_Disease.Diastolic_blood_pressure = Cardio_Disease.Diastolic_blood_pressure.fillna(Cardio_Disease.Diastolic_blood_pressure.mean())\n",
    "Cardio_Disease.shape"
   ]
  },
  {
   "cell_type": "code",
   "execution_count": 372,
   "id": "0e47809c",
   "metadata": {},
   "outputs": [
    {
     "name": "stdout",
     "output_type": "stream",
     "text": [
      "<class 'pandas.core.frame.DataFrame'>\n",
      "Int64Index: 69999 entries, 0 to 69999\n",
      "Data columns (total 13 columns):\n",
      " #   Column                    Non-Null Count  Dtype  \n",
      "---  ------                    --------------  -----  \n",
      " 0   id                        69999 non-null  int64  \n",
      " 1   age_days                  69999 non-null  int64  \n",
      " 2   gender                    69999 non-null  int64  \n",
      " 3   height                    69999 non-null  float64\n",
      " 4   weight                    69999 non-null  float64\n",
      " 5   Systolic_blood_pressure   69999 non-null  float64\n",
      " 6   Diastolic_blood_pressure  69999 non-null  float64\n",
      " 7   cholesterol               69999 non-null  int64  \n",
      " 8   Glucose                   69999 non-null  int64  \n",
      " 9   smoke                     69999 non-null  float64\n",
      " 10  Alcohol_intake            69999 non-null  int64  \n",
      " 11  Physical_activity         69999 non-null  int64  \n",
      " 12  cardio_disease_presence   69999 non-null  int64  \n",
      "dtypes: float64(5), int64(8)\n",
      "memory usage: 7.5 MB\n"
     ]
    }
   ],
   "source": [
    "Cardio_Disease.dropna(subset=['smoke'], inplace = True)\n",
    "Cardio_Disease.info()"
   ]
  },
  {
   "cell_type": "markdown",
   "id": "71eefdc4",
   "metadata": {},
   "source": [
    "#### - calculate the age in years "
   ]
  },
  {
   "cell_type": "code",
   "execution_count": 373,
   "id": "7cb31098",
   "metadata": {},
   "outputs": [],
   "source": [
    "def Days_to_Years(x):\n",
    "    return (x/365.25)\n",
    "\n",
    "Cardio_Disease['age_years'] = Cardio_Disease.age_days.apply(Days_to_Years)\n",
    "Cardio_Disease['age_years'] = Cardio_Disease.age_years.astype('int')"
   ]
  },
  {
   "cell_type": "code",
   "execution_count": 374,
   "id": "af1c56ad",
   "metadata": {},
   "outputs": [
    {
     "data": {
      "text/plain": [
       "55    4225\n",
       "53    4166\n",
       "57    3987\n",
       "59    3844\n",
       "49    3664\n",
       "51    3601\n",
       "54    3309\n",
       "56    3307\n",
       "58    3110\n",
       "52    3043\n",
       "50    2971\n",
       "63    2937\n",
       "60    2933\n",
       "61    2932\n",
       "47    2303\n",
       "45    2214\n",
       "43    2137\n",
       "41    2004\n",
       "62    1991\n",
       "64    1986\n",
       "39    1880\n",
       "48    1705\n",
       "40    1524\n",
       "46    1499\n",
       "44    1408\n",
       "42    1315\n",
       "29       3\n",
       "30       1\n",
       "Name: age_years, dtype: int64"
      ]
     },
     "execution_count": 374,
     "metadata": {},
     "output_type": "execute_result"
    }
   ],
   "source": [
    "Cardio_Disease['age_years'].value_counts()"
   ]
  },
  {
   "cell_type": "markdown",
   "id": "8e38b1cf",
   "metadata": {},
   "source": [
    "#### - drop the id column "
   ]
  },
  {
   "cell_type": "code",
   "execution_count": 375,
   "id": "24dcb2a0",
   "metadata": {},
   "outputs": [],
   "source": [
    "Cardio_Disease.drop([\"id\"],axis=1, inplace = True)\n",
    "Cardio_Disease.drop([\"age_days\"],axis=1, inplace = True)"
   ]
  },
  {
   "cell_type": "code",
   "execution_count": 376,
   "id": "bee76cfe",
   "metadata": {
    "scrolled": false
   },
   "outputs": [
    {
     "name": "stdout",
     "output_type": "stream",
     "text": [
      "<class 'pandas.core.frame.DataFrame'>\n",
      "Int64Index: 69999 entries, 0 to 69999\n",
      "Data columns (total 12 columns):\n",
      " #   Column                    Non-Null Count  Dtype  \n",
      "---  ------                    --------------  -----  \n",
      " 0   gender                    69999 non-null  int64  \n",
      " 1   height                    69999 non-null  float64\n",
      " 2   weight                    69999 non-null  float64\n",
      " 3   Systolic_blood_pressure   69999 non-null  float64\n",
      " 4   Diastolic_blood_pressure  69999 non-null  float64\n",
      " 5   cholesterol               69999 non-null  int64  \n",
      " 6   Glucose                   69999 non-null  int64  \n",
      " 7   smoke                     69999 non-null  float64\n",
      " 8   Alcohol_intake            69999 non-null  int64  \n",
      " 9   Physical_activity         69999 non-null  int64  \n",
      " 10  cardio_disease_presence   69999 non-null  int64  \n",
      " 11  age_years                 69999 non-null  int32  \n",
      "dtypes: float64(5), int32(1), int64(6)\n",
      "memory usage: 6.7 MB\n"
     ]
    }
   ],
   "source": [
    "Cardio_Disease.info()"
   ]
  },
  {
   "cell_type": "code",
   "execution_count": 377,
   "id": "597ea499",
   "metadata": {
    "scrolled": false
   },
   "outputs": [
    {
     "data": {
      "text/html": [
       "<div>\n",
       "<style scoped>\n",
       "    .dataframe tbody tr th:only-of-type {\n",
       "        vertical-align: middle;\n",
       "    }\n",
       "\n",
       "    .dataframe tbody tr th {\n",
       "        vertical-align: top;\n",
       "    }\n",
       "\n",
       "    .dataframe thead th {\n",
       "        text-align: right;\n",
       "    }\n",
       "</style>\n",
       "<table border=\"1\" class=\"dataframe\">\n",
       "  <thead>\n",
       "    <tr style=\"text-align: right;\">\n",
       "      <th></th>\n",
       "      <th>gender</th>\n",
       "      <th>height</th>\n",
       "      <th>weight</th>\n",
       "      <th>Systolic_blood_pressure</th>\n",
       "      <th>Diastolic_blood_pressure</th>\n",
       "      <th>cholesterol</th>\n",
       "      <th>Glucose</th>\n",
       "      <th>smoke</th>\n",
       "      <th>Alcohol_intake</th>\n",
       "      <th>Physical_activity</th>\n",
       "      <th>cardio_disease_presence</th>\n",
       "      <th>age_years</th>\n",
       "    </tr>\n",
       "  </thead>\n",
       "  <tbody>\n",
       "    <tr>\n",
       "      <th>count</th>\n",
       "      <td>69999.000000</td>\n",
       "      <td>69999.000000</td>\n",
       "      <td>69999.000000</td>\n",
       "      <td>69999.000000</td>\n",
       "      <td>69999.000000</td>\n",
       "      <td>69999.000000</td>\n",
       "      <td>69999.000000</td>\n",
       "      <td>69999.000000</td>\n",
       "      <td>69999.000000</td>\n",
       "      <td>69999.000000</td>\n",
       "      <td>69999.000000</td>\n",
       "      <td>69999.000000</td>\n",
       "    </tr>\n",
       "    <tr>\n",
       "      <th>mean</th>\n",
       "      <td>1.349576</td>\n",
       "      <td>164.359277</td>\n",
       "      <td>74.204950</td>\n",
       "      <td>128.817075</td>\n",
       "      <td>96.630747</td>\n",
       "      <td>1.366862</td>\n",
       "      <td>1.226446</td>\n",
       "      <td>0.088130</td>\n",
       "      <td>0.053772</td>\n",
       "      <td>0.803726</td>\n",
       "      <td>0.499693</td>\n",
       "      <td>52.803140</td>\n",
       "    </tr>\n",
       "    <tr>\n",
       "      <th>std</th>\n",
       "      <td>0.476840</td>\n",
       "      <td>8.210033</td>\n",
       "      <td>14.394528</td>\n",
       "      <td>154.012486</td>\n",
       "      <td>188.473864</td>\n",
       "      <td>0.680251</td>\n",
       "      <td>0.572267</td>\n",
       "      <td>0.283486</td>\n",
       "      <td>0.225569</td>\n",
       "      <td>0.397181</td>\n",
       "      <td>0.500003</td>\n",
       "      <td>6.762439</td>\n",
       "    </tr>\n",
       "    <tr>\n",
       "      <th>min</th>\n",
       "      <td>1.000000</td>\n",
       "      <td>55.000000</td>\n",
       "      <td>10.000000</td>\n",
       "      <td>-150.000000</td>\n",
       "      <td>-70.000000</td>\n",
       "      <td>1.000000</td>\n",
       "      <td>1.000000</td>\n",
       "      <td>0.000000</td>\n",
       "      <td>0.000000</td>\n",
       "      <td>0.000000</td>\n",
       "      <td>0.000000</td>\n",
       "      <td>29.000000</td>\n",
       "    </tr>\n",
       "    <tr>\n",
       "      <th>25%</th>\n",
       "      <td>1.000000</td>\n",
       "      <td>159.000000</td>\n",
       "      <td>65.000000</td>\n",
       "      <td>120.000000</td>\n",
       "      <td>80.000000</td>\n",
       "      <td>1.000000</td>\n",
       "      <td>1.000000</td>\n",
       "      <td>0.000000</td>\n",
       "      <td>0.000000</td>\n",
       "      <td>1.000000</td>\n",
       "      <td>0.000000</td>\n",
       "      <td>48.000000</td>\n",
       "    </tr>\n",
       "    <tr>\n",
       "      <th>50%</th>\n",
       "      <td>1.000000</td>\n",
       "      <td>165.000000</td>\n",
       "      <td>72.000000</td>\n",
       "      <td>120.000000</td>\n",
       "      <td>80.000000</td>\n",
       "      <td>1.000000</td>\n",
       "      <td>1.000000</td>\n",
       "      <td>0.000000</td>\n",
       "      <td>0.000000</td>\n",
       "      <td>1.000000</td>\n",
       "      <td>0.000000</td>\n",
       "      <td>53.000000</td>\n",
       "    </tr>\n",
       "    <tr>\n",
       "      <th>75%</th>\n",
       "      <td>2.000000</td>\n",
       "      <td>170.000000</td>\n",
       "      <td>82.000000</td>\n",
       "      <td>140.000000</td>\n",
       "      <td>90.000000</td>\n",
       "      <td>2.000000</td>\n",
       "      <td>1.000000</td>\n",
       "      <td>0.000000</td>\n",
       "      <td>0.000000</td>\n",
       "      <td>1.000000</td>\n",
       "      <td>1.000000</td>\n",
       "      <td>58.000000</td>\n",
       "    </tr>\n",
       "    <tr>\n",
       "      <th>max</th>\n",
       "      <td>2.000000</td>\n",
       "      <td>250.000000</td>\n",
       "      <td>200.000000</td>\n",
       "      <td>16020.000000</td>\n",
       "      <td>11000.000000</td>\n",
       "      <td>3.000000</td>\n",
       "      <td>3.000000</td>\n",
       "      <td>1.000000</td>\n",
       "      <td>1.000000</td>\n",
       "      <td>1.000000</td>\n",
       "      <td>1.000000</td>\n",
       "      <td>64.000000</td>\n",
       "    </tr>\n",
       "  </tbody>\n",
       "</table>\n",
       "</div>"
      ],
      "text/plain": [
       "             gender        height        weight  Systolic_blood_pressure  \\\n",
       "count  69999.000000  69999.000000  69999.000000             69999.000000   \n",
       "mean       1.349576    164.359277     74.204950               128.817075   \n",
       "std        0.476840      8.210033     14.394528               154.012486   \n",
       "min        1.000000     55.000000     10.000000              -150.000000   \n",
       "25%        1.000000    159.000000     65.000000               120.000000   \n",
       "50%        1.000000    165.000000     72.000000               120.000000   \n",
       "75%        2.000000    170.000000     82.000000               140.000000   \n",
       "max        2.000000    250.000000    200.000000             16020.000000   \n",
       "\n",
       "       Diastolic_blood_pressure   cholesterol       Glucose         smoke  \\\n",
       "count              69999.000000  69999.000000  69999.000000  69999.000000   \n",
       "mean                  96.630747      1.366862      1.226446      0.088130   \n",
       "std                  188.473864      0.680251      0.572267      0.283486   \n",
       "min                  -70.000000      1.000000      1.000000      0.000000   \n",
       "25%                   80.000000      1.000000      1.000000      0.000000   \n",
       "50%                   80.000000      1.000000      1.000000      0.000000   \n",
       "75%                   90.000000      2.000000      1.000000      0.000000   \n",
       "max                11000.000000      3.000000      3.000000      1.000000   \n",
       "\n",
       "       Alcohol_intake  Physical_activity  cardio_disease_presence  \\\n",
       "count    69999.000000       69999.000000             69999.000000   \n",
       "mean         0.053772           0.803726                 0.499693   \n",
       "std          0.225569           0.397181                 0.500003   \n",
       "min          0.000000           0.000000                 0.000000   \n",
       "25%          0.000000           1.000000                 0.000000   \n",
       "50%          0.000000           1.000000                 0.000000   \n",
       "75%          0.000000           1.000000                 1.000000   \n",
       "max          1.000000           1.000000                 1.000000   \n",
       "\n",
       "          age_years  \n",
       "count  69999.000000  \n",
       "mean      52.803140  \n",
       "std        6.762439  \n",
       "min       29.000000  \n",
       "25%       48.000000  \n",
       "50%       53.000000  \n",
       "75%       58.000000  \n",
       "max       64.000000  "
      ]
     },
     "execution_count": 377,
     "metadata": {},
     "output_type": "execute_result"
    }
   ],
   "source": [
    "Cardio_Disease.describe()"
   ]
  },
  {
   "cell_type": "code",
   "execution_count": 378,
   "id": "a35c4c6a",
   "metadata": {},
   "outputs": [
    {
     "data": {
      "text/html": [
       "<div>\n",
       "<style scoped>\n",
       "    .dataframe tbody tr th:only-of-type {\n",
       "        vertical-align: middle;\n",
       "    }\n",
       "\n",
       "    .dataframe tbody tr th {\n",
       "        vertical-align: top;\n",
       "    }\n",
       "\n",
       "    .dataframe thead th {\n",
       "        text-align: right;\n",
       "    }\n",
       "</style>\n",
       "<table border=\"1\" class=\"dataframe\">\n",
       "  <thead>\n",
       "    <tr style=\"text-align: right;\">\n",
       "      <th></th>\n",
       "      <th>gender</th>\n",
       "      <th>height</th>\n",
       "      <th>weight</th>\n",
       "      <th>Systolic_blood_pressure</th>\n",
       "      <th>Diastolic_blood_pressure</th>\n",
       "      <th>cholesterol</th>\n",
       "      <th>Glucose</th>\n",
       "      <th>smoke</th>\n",
       "      <th>Alcohol_intake</th>\n",
       "      <th>Physical_activity</th>\n",
       "      <th>cardio_disease_presence</th>\n",
       "      <th>age_years</th>\n",
       "    </tr>\n",
       "  </thead>\n",
       "  <tbody>\n",
       "    <tr>\n",
       "      <th>gender</th>\n",
       "      <td>1.000000</td>\n",
       "      <td>0.499048</td>\n",
       "      <td>0.155458</td>\n",
       "      <td>0.006008</td>\n",
       "      <td>0.015255</td>\n",
       "      <td>-0.035812</td>\n",
       "      <td>-0.020477</td>\n",
       "      <td>0.338133</td>\n",
       "      <td>0.170965</td>\n",
       "      <td>0.005871</td>\n",
       "      <td>0.008120</td>\n",
       "      <td>-0.022749</td>\n",
       "    </tr>\n",
       "    <tr>\n",
       "      <th>height</th>\n",
       "      <td>0.499048</td>\n",
       "      <td>1.000000</td>\n",
       "      <td>0.290988</td>\n",
       "      <td>0.005485</td>\n",
       "      <td>0.006150</td>\n",
       "      <td>-0.050212</td>\n",
       "      <td>-0.018575</td>\n",
       "      <td>0.187991</td>\n",
       "      <td>0.094419</td>\n",
       "      <td>-0.006514</td>\n",
       "      <td>-0.010826</td>\n",
       "      <td>-0.081336</td>\n",
       "    </tr>\n",
       "    <tr>\n",
       "      <th>weight</th>\n",
       "      <td>0.155458</td>\n",
       "      <td>0.290988</td>\n",
       "      <td>1.000000</td>\n",
       "      <td>0.030701</td>\n",
       "      <td>0.043716</td>\n",
       "      <td>0.141734</td>\n",
       "      <td>0.106799</td>\n",
       "      <td>0.067803</td>\n",
       "      <td>0.067131</td>\n",
       "      <td>-0.016894</td>\n",
       "      <td>0.181626</td>\n",
       "      <td>0.053510</td>\n",
       "    </tr>\n",
       "    <tr>\n",
       "      <th>Systolic_blood_pressure</th>\n",
       "      <td>0.006008</td>\n",
       "      <td>0.005485</td>\n",
       "      <td>0.030701</td>\n",
       "      <td>1.000000</td>\n",
       "      <td>0.016086</td>\n",
       "      <td>0.023777</td>\n",
       "      <td>0.011840</td>\n",
       "      <td>-0.000922</td>\n",
       "      <td>0.001409</td>\n",
       "      <td>-0.000034</td>\n",
       "      <td>0.054472</td>\n",
       "      <td>0.020928</td>\n",
       "    </tr>\n",
       "    <tr>\n",
       "      <th>Diastolic_blood_pressure</th>\n",
       "      <td>0.015255</td>\n",
       "      <td>0.006150</td>\n",
       "      <td>0.043716</td>\n",
       "      <td>0.016086</td>\n",
       "      <td>1.000000</td>\n",
       "      <td>0.024021</td>\n",
       "      <td>0.010806</td>\n",
       "      <td>0.005186</td>\n",
       "      <td>0.010601</td>\n",
       "      <td>0.004781</td>\n",
       "      <td>0.065721</td>\n",
       "      <td>0.017553</td>\n",
       "    </tr>\n",
       "    <tr>\n",
       "      <th>cholesterol</th>\n",
       "      <td>-0.035812</td>\n",
       "      <td>-0.050212</td>\n",
       "      <td>0.141734</td>\n",
       "      <td>0.023777</td>\n",
       "      <td>0.024021</td>\n",
       "      <td>1.000000</td>\n",
       "      <td>0.451568</td>\n",
       "      <td>0.010359</td>\n",
       "      <td>0.035764</td>\n",
       "      <td>0.009905</td>\n",
       "      <td>0.221137</td>\n",
       "      <td>0.153985</td>\n",
       "    </tr>\n",
       "    <tr>\n",
       "      <th>Glucose</th>\n",
       "      <td>-0.020477</td>\n",
       "      <td>-0.018575</td>\n",
       "      <td>0.106799</td>\n",
       "      <td>0.011840</td>\n",
       "      <td>0.010806</td>\n",
       "      <td>0.451568</td>\n",
       "      <td>1.000000</td>\n",
       "      <td>-0.004751</td>\n",
       "      <td>0.011251</td>\n",
       "      <td>-0.006779</td>\n",
       "      <td>0.089289</td>\n",
       "      <td>0.098508</td>\n",
       "    </tr>\n",
       "    <tr>\n",
       "      <th>smoke</th>\n",
       "      <td>0.338133</td>\n",
       "      <td>0.187991</td>\n",
       "      <td>0.067803</td>\n",
       "      <td>-0.000922</td>\n",
       "      <td>0.005186</td>\n",
       "      <td>0.010359</td>\n",
       "      <td>-0.004751</td>\n",
       "      <td>1.000000</td>\n",
       "      <td>0.340093</td>\n",
       "      <td>0.025860</td>\n",
       "      <td>-0.015482</td>\n",
       "      <td>-0.047474</td>\n",
       "    </tr>\n",
       "    <tr>\n",
       "      <th>Alcohol_intake</th>\n",
       "      <td>0.170965</td>\n",
       "      <td>0.094419</td>\n",
       "      <td>0.067131</td>\n",
       "      <td>0.001409</td>\n",
       "      <td>0.010601</td>\n",
       "      <td>0.035764</td>\n",
       "      <td>0.011251</td>\n",
       "      <td>0.340093</td>\n",
       "      <td>1.000000</td>\n",
       "      <td>0.025478</td>\n",
       "      <td>-0.007327</td>\n",
       "      <td>-0.029670</td>\n",
       "    </tr>\n",
       "    <tr>\n",
       "      <th>Physical_activity</th>\n",
       "      <td>0.005871</td>\n",
       "      <td>-0.006514</td>\n",
       "      <td>-0.016894</td>\n",
       "      <td>-0.000034</td>\n",
       "      <td>0.004781</td>\n",
       "      <td>0.009905</td>\n",
       "      <td>-0.006779</td>\n",
       "      <td>0.025860</td>\n",
       "      <td>0.025478</td>\n",
       "      <td>1.000000</td>\n",
       "      <td>-0.035661</td>\n",
       "      <td>-0.009812</td>\n",
       "    </tr>\n",
       "    <tr>\n",
       "      <th>cardio_disease_presence</th>\n",
       "      <td>0.008120</td>\n",
       "      <td>-0.010826</td>\n",
       "      <td>0.181626</td>\n",
       "      <td>0.054472</td>\n",
       "      <td>0.065721</td>\n",
       "      <td>0.221137</td>\n",
       "      <td>0.089289</td>\n",
       "      <td>-0.015482</td>\n",
       "      <td>-0.007327</td>\n",
       "      <td>-0.035661</td>\n",
       "      <td>1.000000</td>\n",
       "      <td>0.237936</td>\n",
       "    </tr>\n",
       "    <tr>\n",
       "      <th>age_years</th>\n",
       "      <td>-0.022749</td>\n",
       "      <td>-0.081336</td>\n",
       "      <td>0.053510</td>\n",
       "      <td>0.020928</td>\n",
       "      <td>0.017553</td>\n",
       "      <td>0.153985</td>\n",
       "      <td>0.098508</td>\n",
       "      <td>-0.047474</td>\n",
       "      <td>-0.029670</td>\n",
       "      <td>-0.009812</td>\n",
       "      <td>0.237936</td>\n",
       "      <td>1.000000</td>\n",
       "    </tr>\n",
       "  </tbody>\n",
       "</table>\n",
       "</div>"
      ],
      "text/plain": [
       "                            gender    height    weight  \\\n",
       "gender                    1.000000  0.499048  0.155458   \n",
       "height                    0.499048  1.000000  0.290988   \n",
       "weight                    0.155458  0.290988  1.000000   \n",
       "Systolic_blood_pressure   0.006008  0.005485  0.030701   \n",
       "Diastolic_blood_pressure  0.015255  0.006150  0.043716   \n",
       "cholesterol              -0.035812 -0.050212  0.141734   \n",
       "Glucose                  -0.020477 -0.018575  0.106799   \n",
       "smoke                     0.338133  0.187991  0.067803   \n",
       "Alcohol_intake            0.170965  0.094419  0.067131   \n",
       "Physical_activity         0.005871 -0.006514 -0.016894   \n",
       "cardio_disease_presence   0.008120 -0.010826  0.181626   \n",
       "age_years                -0.022749 -0.081336  0.053510   \n",
       "\n",
       "                          Systolic_blood_pressure  Diastolic_blood_pressure  \\\n",
       "gender                                   0.006008                  0.015255   \n",
       "height                                   0.005485                  0.006150   \n",
       "weight                                   0.030701                  0.043716   \n",
       "Systolic_blood_pressure                  1.000000                  0.016086   \n",
       "Diastolic_blood_pressure                 0.016086                  1.000000   \n",
       "cholesterol                              0.023777                  0.024021   \n",
       "Glucose                                  0.011840                  0.010806   \n",
       "smoke                                   -0.000922                  0.005186   \n",
       "Alcohol_intake                           0.001409                  0.010601   \n",
       "Physical_activity                       -0.000034                  0.004781   \n",
       "cardio_disease_presence                  0.054472                  0.065721   \n",
       "age_years                                0.020928                  0.017553   \n",
       "\n",
       "                          cholesterol   Glucose     smoke  Alcohol_intake  \\\n",
       "gender                      -0.035812 -0.020477  0.338133        0.170965   \n",
       "height                      -0.050212 -0.018575  0.187991        0.094419   \n",
       "weight                       0.141734  0.106799  0.067803        0.067131   \n",
       "Systolic_blood_pressure      0.023777  0.011840 -0.000922        0.001409   \n",
       "Diastolic_blood_pressure     0.024021  0.010806  0.005186        0.010601   \n",
       "cholesterol                  1.000000  0.451568  0.010359        0.035764   \n",
       "Glucose                      0.451568  1.000000 -0.004751        0.011251   \n",
       "smoke                        0.010359 -0.004751  1.000000        0.340093   \n",
       "Alcohol_intake               0.035764  0.011251  0.340093        1.000000   \n",
       "Physical_activity            0.009905 -0.006779  0.025860        0.025478   \n",
       "cardio_disease_presence      0.221137  0.089289 -0.015482       -0.007327   \n",
       "age_years                    0.153985  0.098508 -0.047474       -0.029670   \n",
       "\n",
       "                          Physical_activity  cardio_disease_presence  \\\n",
       "gender                             0.005871                 0.008120   \n",
       "height                            -0.006514                -0.010826   \n",
       "weight                            -0.016894                 0.181626   \n",
       "Systolic_blood_pressure           -0.000034                 0.054472   \n",
       "Diastolic_blood_pressure           0.004781                 0.065721   \n",
       "cholesterol                        0.009905                 0.221137   \n",
       "Glucose                           -0.006779                 0.089289   \n",
       "smoke                              0.025860                -0.015482   \n",
       "Alcohol_intake                     0.025478                -0.007327   \n",
       "Physical_activity                  1.000000                -0.035661   \n",
       "cardio_disease_presence           -0.035661                 1.000000   \n",
       "age_years                         -0.009812                 0.237936   \n",
       "\n",
       "                          age_years  \n",
       "gender                    -0.022749  \n",
       "height                    -0.081336  \n",
       "weight                     0.053510  \n",
       "Systolic_blood_pressure    0.020928  \n",
       "Diastolic_blood_pressure   0.017553  \n",
       "cholesterol                0.153985  \n",
       "Glucose                    0.098508  \n",
       "smoke                     -0.047474  \n",
       "Alcohol_intake            -0.029670  \n",
       "Physical_activity         -0.009812  \n",
       "cardio_disease_presence    0.237936  \n",
       "age_years                  1.000000  "
      ]
     },
     "execution_count": 378,
     "metadata": {},
     "output_type": "execute_result"
    }
   ],
   "source": [
    "Cardio_Disease.corr()"
   ]
  },
  {
   "cell_type": "markdown",
   "id": "a227e269",
   "metadata": {},
   "source": [
    "#### - drop the outliers"
   ]
  },
  {
   "cell_type": "code",
   "execution_count": 379,
   "id": "e2940d93",
   "metadata": {},
   "outputs": [],
   "source": [
    "index1 = Cardio_Disease[Cardio_Disease['age_years'] == 30 ].index"
   ]
  },
  {
   "cell_type": "code",
   "execution_count": 380,
   "id": "60fee3e3",
   "metadata": {},
   "outputs": [],
   "source": [
    "index2 = Cardio_Disease[Cardio_Disease['age_years'] == 29 ].index"
   ]
  },
  {
   "cell_type": "code",
   "execution_count": 381,
   "id": "5c045277",
   "metadata": {},
   "outputs": [
    {
     "name": "stdout",
     "output_type": "stream",
     "text": [
      "<class 'pandas.core.frame.DataFrame'>\n",
      "Int64Index: 69995 entries, 0 to 69999\n",
      "Data columns (total 12 columns):\n",
      " #   Column                    Non-Null Count  Dtype  \n",
      "---  ------                    --------------  -----  \n",
      " 0   gender                    69995 non-null  int64  \n",
      " 1   height                    69995 non-null  float64\n",
      " 2   weight                    69995 non-null  float64\n",
      " 3   Systolic_blood_pressure   69995 non-null  float64\n",
      " 4   Diastolic_blood_pressure  69995 non-null  float64\n",
      " 5   cholesterol               69995 non-null  int64  \n",
      " 6   Glucose                   69995 non-null  int64  \n",
      " 7   smoke                     69995 non-null  float64\n",
      " 8   Alcohol_intake            69995 non-null  int64  \n",
      " 9   Physical_activity         69995 non-null  int64  \n",
      " 10  cardio_disease_presence   69995 non-null  int64  \n",
      " 11  age_years                 69995 non-null  int32  \n",
      "dtypes: float64(5), int32(1), int64(6)\n",
      "memory usage: 6.7 MB\n"
     ]
    }
   ],
   "source": [
    "Cardio_Disease.drop(index1,inplace = True)\n",
    "Cardio_Disease.drop(index2,inplace = True)\n",
    "Cardio_Disease.info()"
   ]
  },
  {
   "cell_type": "markdown",
   "id": "07dd99cd",
   "metadata": {},
   "source": [
    "#### - the average age for heart disease presence and no presence "
   ]
  },
  {
   "cell_type": "code",
   "execution_count": 382,
   "id": "ba0cc43a",
   "metadata": {},
   "outputs": [
    {
     "data": {
      "text/html": [
       "<div>\n",
       "<style scoped>\n",
       "    .dataframe tbody tr th:only-of-type {\n",
       "        vertical-align: middle;\n",
       "    }\n",
       "\n",
       "    .dataframe tbody tr th {\n",
       "        vertical-align: top;\n",
       "    }\n",
       "\n",
       "    .dataframe thead th {\n",
       "        text-align: right;\n",
       "    }\n",
       "</style>\n",
       "<table border=\"1\" class=\"dataframe\">\n",
       "  <thead>\n",
       "    <tr style=\"text-align: right;\">\n",
       "      <th></th>\n",
       "      <th>age_years</th>\n",
       "    </tr>\n",
       "    <tr>\n",
       "      <th>cardio_disease_presence</th>\n",
       "      <th></th>\n",
       "    </tr>\n",
       "  </thead>\n",
       "  <tbody>\n",
       "    <tr>\n",
       "      <th>0</th>\n",
       "      <td>51.197618</td>\n",
       "    </tr>\n",
       "    <tr>\n",
       "      <th>1</th>\n",
       "      <td>54.413145</td>\n",
       "    </tr>\n",
       "  </tbody>\n",
       "</table>\n",
       "</div>"
      ],
      "text/plain": [
       "                         age_years\n",
       "cardio_disease_presence           \n",
       "0                        51.197618\n",
       "1                        54.413145"
      ]
     },
     "execution_count": 382,
     "metadata": {},
     "output_type": "execute_result"
    }
   ],
   "source": [
    "Cardio_Disease.groupby('cardio_disease_presence')[['age_years']].mean()"
   ]
  },
  {
   "cell_type": "code",
   "execution_count": 383,
   "id": "4445e72f",
   "metadata": {},
   "outputs": [
    {
     "data": {
      "text/plain": [
       "64"
      ]
     },
     "execution_count": 383,
     "metadata": {},
     "output_type": "execute_result"
    }
   ],
   "source": [
    "Cardio_Disease.age_years.max()"
   ]
  },
  {
   "cell_type": "markdown",
   "id": "e727a316",
   "metadata": {},
   "source": [
    "#### Discover the height column"
   ]
  },
  {
   "cell_type": "code",
   "execution_count": 384,
   "id": "d92b55c1",
   "metadata": {},
   "outputs": [
    {
     "data": {
      "text/plain": [
       "<AxesSubplot:xlabel='height', ylabel='weight'>"
      ]
     },
     "execution_count": 384,
     "metadata": {},
     "output_type": "execute_result"
    },
    {
     "data": {
      "image/png": "[encoded data removed]",
      "text/plain": [
       "<Figure size 432x288 with 1 Axes>"
      ]
     },
     "metadata": {
      "needs_background": "light"
     },
     "output_type": "display_data"
    }
   ],
   "source": [
    "sns.scatterplot( data =Cardio_Disease, x = 'height',y = 'weight', hue = 'height')"
   ]
  },
  {
   "cell_type": "markdown",
   "id": "56e2e9f4",
   "metadata": {},
   "source": [
    "The scatter plot above shows unreasonable data for the height column! there're height equal 250 and other less than 75! \n",
    "And these heights don't make sense! and I consider it as anomalies! "
   ]
  },
  {
   "cell_type": "code",
   "execution_count": 385,
   "id": "66e48a98",
   "metadata": {
    "scrolled": true
   },
   "outputs": [],
   "source": [
    "# I decided to get rid of all the heights that less than 120 and higher than 220\n",
    "\n",
    "Cardio_Disease.drop(Cardio_Disease[Cardio_Disease['height'] < 160].index, inplace = True)\n",
    "Cardio_Disease.drop(Cardio_Disease[Cardio_Disease['height'] > 200].index, inplace = True)"
   ]
  },
  {
   "cell_type": "markdown",
   "id": "49ffb002",
   "metadata": {},
   "source": [
    "#### here is the dataset after filtering & it looks pretty normal "
   ]
  },
  {
   "cell_type": "code",
   "execution_count": 386,
   "id": "67f3bb8d",
   "metadata": {},
   "outputs": [],
   "source": [
    "# let's clean the weight anamolies \n",
    "Cardio_Disease.drop(Cardio_Disease[Cardio_Disease['weight'] < 40].index, inplace = True)"
   ]
  },
  {
   "cell_type": "code",
   "execution_count": 387,
   "id": "c7d62a2e",
   "metadata": {},
   "outputs": [
    {
     "data": {
      "text/plain": [
       "<AxesSubplot:xlabel='height', ylabel='weight'>"
      ]
     },
     "execution_count": 387,
     "metadata": {},
     "output_type": "execute_result"
    },
    {
     "data": {
      "image/png": "[encoded data removed]",
      "text/plain": [
       "<Figure size 432x288 with 1 Axes>"
      ]
     },
     "metadata": {
      "needs_background": "light"
     },
     "output_type": "display_data"
    }
   ],
   "source": [
    "sns.scatterplot( data =Cardio_Disease, x = 'height',y = 'weight', hue = 'height')"
   ]
  },
  {
   "cell_type": "markdown",
   "id": "252a3cd1",
   "metadata": {},
   "source": [
    "#### Check whether there are imbalanced classes"
   ]
  },
  {
   "cell_type": "markdown",
   "id": "e03edd68",
   "metadata": {},
   "source": [
    "- the target column is cardio_disease_presence which has 0's and 1's, let's check it!"
   ]
  },
  {
   "cell_type": "code",
   "execution_count": 388,
   "id": "3931581a",
   "metadata": {},
   "outputs": [
    {
     "data": {
      "text/plain": [
       "0    25993\n",
       "1    25470\n",
       "Name: cardio_disease_presence, dtype: int64"
      ]
     },
     "execution_count": 388,
     "metadata": {},
     "output_type": "execute_result"
    }
   ],
   "source": [
    "Cardio_Disease['cardio_disease_presence'].value_counts()"
   ]
  },
  {
   "cell_type": "markdown",
   "id": "af3edf56",
   "metadata": {},
   "source": [
    "- the output shows that the classes are balanced!"
   ]
  },
  {
   "cell_type": "markdown",
   "id": "9c725588",
   "metadata": {},
   "source": [
    "## 3. Data Visualization"
   ]
  },
  {
   "cell_type": "code",
   "execution_count": 389,
   "id": "9278e369",
   "metadata": {},
   "outputs": [
    {
     "data": {
      "text/plain": [
       "<AxesSubplot:title={'center':'Age boxplot'}>"
      ]
     },
     "execution_count": 389,
     "metadata": {},
     "output_type": "execute_result"
    },
    {
     "data": {
      "image/png": "[encoded data removed]",
      "text/plain": [
       "<Figure size 432x288 with 1 Axes>"
      ]
     },
     "metadata": {
      "needs_background": "light"
     },
     "output_type": "display_data"
    }
   ],
   "source": [
    "age_boxplot = Cardio_Disease.boxplot(column=['age_years'], color='#34A198')\n",
    "plt.title(\"Age boxplot\", family='serif',fontsize = 15, color='#21635D')\n",
    "age_boxplot\n"
   ]
  },
  {
   "cell_type": "code",
   "execution_count": 390,
   "id": "a10ef4d0",
   "metadata": {},
   "outputs": [
    {
     "data": {
      "text/plain": [
       "(array([4157., 2714., 4001., 3078., 7657., 5340., 8069., 5077., 6595.,\n",
       "        4775.]),\n",
       " array([39. , 41.5, 44. , 46.5, 49. , 51.5, 54. , 56.5, 59. , 61.5, 64. ]),\n",
       " <BarContainer object of 10 artists>)"
      ]
     },
     "execution_count": 390,
     "metadata": {},
     "output_type": "execute_result"
    },
    {
     "data": {
      "image/png": "[encoded data removed]",
      "text/plain": [
       "<Figure size 432x288 with 1 Axes>"
      ]
     },
     "metadata": {
      "needs_background": "light"
     },
     "output_type": "display_data"
    }
   ],
   "source": [
    "# 21635D\n",
    "age_hist = plt.hist(Cardio_Disease['age_years'], bins = 10, color='#34A198', edgecolor = '#21635D')\n",
    "plt.title('Age distribution', color = '#21635D', fontsize = 15)\n",
    "age_hist"
   ]
  },
  {
   "cell_type": "code",
   "execution_count": 391,
   "id": "15b93d1f",
   "metadata": {},
   "outputs": [
    {
     "data": {
      "text/plain": [
       "<AxesSubplot:title={'center':'Age boxplot'}>"
      ]
     },
     "execution_count": 391,
     "metadata": {},
     "output_type": "execute_result"
    },
    {
     "data": {
      "image/png": "[encoded data removed]",
      "text/plain": [
       "<Figure size 432x288 with 1 Axes>"
      ]
     },
     "metadata": {
      "needs_background": "light"
     },
     "output_type": "display_data"
    }
   ],
   "source": [
    "cholesterol_age_boxplot = Cardio_Disease.boxplot(by = 'cholesterol' , column=['age_years'], color='#34A198')\n",
    "age_boxplot\n"
   ]
  },
  {
   "cell_type": "code",
   "execution_count": 392,
   "id": "de06f33e",
   "metadata": {},
   "outputs": [
    {
     "data": {
      "text/plain": [
       "<AxesSubplot:xlabel='age_years', ylabel='count'>"
      ]
     },
     "execution_count": 392,
     "metadata": {},
     "output_type": "execute_result"
    },
    {
     "data": {
      "image/png": "[encoded data removed]",
      "text/plain": [
       "<Figure size 432x288 with 1 Axes>"
      ]
     },
     "metadata": {
      "needs_background": "light"
     },
     "output_type": "display_data"
    }
   ],
   "source": [
    "c = sns.color_palette(\"pastel\")\n",
    "sns.countplot(x= 'age_years' , hue = 'cardio_disease_presence' , data = Cardio_Disease, palette = c)\n"
   ]
  },
  {
   "cell_type": "markdown",
   "id": "b319553c",
   "metadata": {},
   "source": [
    "## 4. Feature Engineering"
   ]
  },
  {
   "cell_type": "markdown",
   "id": "7549b823",
   "metadata": {},
   "source": [
    "#### * Blood pressure reading "
   ]
  },
  {
   "cell_type": "code",
   "execution_count": 393,
   "id": "b2157b35",
   "metadata": {},
   "outputs": [],
   "source": [
    "# blood_pressure : 1 for normal , 2 for at risk , 3 for High blood pressure\n",
    "def blood_pressure(s,d):\n",
    "    if (s <= 120 and d <= 80):\n",
    "        return 1\n",
    "    elif (s > 140 and  d > 90 ):\n",
    "        return 3\n",
    "    else:\n",
    "        return 2"
   ]
  },
  {
   "cell_type": "code",
   "execution_count": 394,
   "id": "bf8129cb",
   "metadata": {},
   "outputs": [],
   "source": [
    "Cardio_Disease['Blood_pressure'] = Cardio_Disease.apply(lambda x: blood_pressure(x['Systolic_blood_pressure'], x['Diastolic_blood_pressure']) , axis = 1 )"
   ]
  },
  {
   "cell_type": "code",
   "execution_count": 395,
   "id": "45108145",
   "metadata": {},
   "outputs": [
    {
     "data": {
      "text/html": [
       "<div>\n",
       "<style scoped>\n",
       "    .dataframe tbody tr th:only-of-type {\n",
       "        vertical-align: middle;\n",
       "    }\n",
       "\n",
       "    .dataframe tbody tr th {\n",
       "        vertical-align: top;\n",
       "    }\n",
       "\n",
       "    .dataframe thead th {\n",
       "        text-align: right;\n",
       "    }\n",
       "</style>\n",
       "<table border=\"1\" class=\"dataframe\">\n",
       "  <thead>\n",
       "    <tr style=\"text-align: right;\">\n",
       "      <th></th>\n",
       "      <th>gender</th>\n",
       "      <th>height</th>\n",
       "      <th>weight</th>\n",
       "      <th>Systolic_blood_pressure</th>\n",
       "      <th>Diastolic_blood_pressure</th>\n",
       "      <th>cholesterol</th>\n",
       "      <th>Glucose</th>\n",
       "      <th>smoke</th>\n",
       "      <th>Alcohol_intake</th>\n",
       "      <th>Physical_activity</th>\n",
       "      <th>cardio_disease_presence</th>\n",
       "      <th>age_years</th>\n",
       "      <th>Blood_pressure</th>\n",
       "    </tr>\n",
       "  </thead>\n",
       "  <tbody>\n",
       "  </tbody>\n",
       "</table>\n",
       "</div>"
      ],
      "text/plain": [
       "Empty DataFrame\n",
       "Columns: [gender, height, weight, Systolic_blood_pressure, Diastolic_blood_pressure, cholesterol, Glucose, smoke, Alcohol_intake, Physical_activity, cardio_disease_presence, age_years, Blood_pressure]\n",
       "Index: []"
      ]
     },
     "execution_count": 395,
     "metadata": {},
     "output_type": "execute_result"
    }
   ],
   "source": [
    "Cardio_Disease[Cardio_Disease.Blood_pressure == 'High blood pressure'].head(10)"
   ]
  },
  {
   "cell_type": "markdown",
   "id": "01105143",
   "metadata": {},
   "source": [
    "#### * Calculate the Body Mass index (BMI)"
   ]
  },
  {
   "cell_type": "code",
   "execution_count": 396,
   "id": "8700cbe5",
   "metadata": {},
   "outputs": [],
   "source": [
    "# the height should be in meters & weight in kilograms \n",
    "def BMI(W,H):\n",
    "    H = H /100\n",
    "    return round((W / (H*H)) , 1)"
   ]
  },
  {
   "cell_type": "code",
   "execution_count": 397,
   "id": "af6697a5",
   "metadata": {
    "scrolled": true
   },
   "outputs": [],
   "source": [
    "Cardio_Disease['BMI'] = Cardio_Disease.apply(lambda x: BMI(x['weight'], x['height']) , axis = 1 )"
   ]
  },
  {
   "cell_type": "code",
   "execution_count": 398,
   "id": "9f052a50",
   "metadata": {},
   "outputs": [
    {
     "data": {
      "text/html": [
       "<div>\n",
       "<style scoped>\n",
       "    .dataframe tbody tr th:only-of-type {\n",
       "        vertical-align: middle;\n",
       "    }\n",
       "\n",
       "    .dataframe tbody tr th {\n",
       "        vertical-align: top;\n",
       "    }\n",
       "\n",
       "    .dataframe thead th {\n",
       "        text-align: right;\n",
       "    }\n",
       "</style>\n",
       "<table border=\"1\" class=\"dataframe\">\n",
       "  <thead>\n",
       "    <tr style=\"text-align: right;\">\n",
       "      <th></th>\n",
       "      <th>gender</th>\n",
       "      <th>height</th>\n",
       "      <th>weight</th>\n",
       "      <th>Systolic_blood_pressure</th>\n",
       "      <th>Diastolic_blood_pressure</th>\n",
       "      <th>cholesterol</th>\n",
       "      <th>Glucose</th>\n",
       "      <th>smoke</th>\n",
       "      <th>Alcohol_intake</th>\n",
       "      <th>Physical_activity</th>\n",
       "      <th>cardio_disease_presence</th>\n",
       "      <th>age_years</th>\n",
       "      <th>Blood_pressure</th>\n",
       "      <th>BMI</th>\n",
       "    </tr>\n",
       "  </thead>\n",
       "  <tbody>\n",
       "    <tr>\n",
       "      <th>0</th>\n",
       "      <td>2</td>\n",
       "      <td>168.0</td>\n",
       "      <td>62.0</td>\n",
       "      <td>110.000000</td>\n",
       "      <td>80.0</td>\n",
       "      <td>1</td>\n",
       "      <td>1</td>\n",
       "      <td>0.0</td>\n",
       "      <td>0</td>\n",
       "      <td>1</td>\n",
       "      <td>0</td>\n",
       "      <td>50</td>\n",
       "      <td>1</td>\n",
       "      <td>22.0</td>\n",
       "    </tr>\n",
       "    <tr>\n",
       "      <th>2</th>\n",
       "      <td>1</td>\n",
       "      <td>165.0</td>\n",
       "      <td>64.0</td>\n",
       "      <td>130.000000</td>\n",
       "      <td>70.0</td>\n",
       "      <td>3</td>\n",
       "      <td>1</td>\n",
       "      <td>0.0</td>\n",
       "      <td>0</td>\n",
       "      <td>0</td>\n",
       "      <td>1</td>\n",
       "      <td>51</td>\n",
       "      <td>2</td>\n",
       "      <td>23.5</td>\n",
       "    </tr>\n",
       "    <tr>\n",
       "      <th>3</th>\n",
       "      <td>2</td>\n",
       "      <td>169.0</td>\n",
       "      <td>82.0</td>\n",
       "      <td>150.000000</td>\n",
       "      <td>100.0</td>\n",
       "      <td>1</td>\n",
       "      <td>1</td>\n",
       "      <td>0.0</td>\n",
       "      <td>0</td>\n",
       "      <td>1</td>\n",
       "      <td>1</td>\n",
       "      <td>48</td>\n",
       "      <td>3</td>\n",
       "      <td>28.7</td>\n",
       "    </tr>\n",
       "    <tr>\n",
       "      <th>7</th>\n",
       "      <td>2</td>\n",
       "      <td>178.0</td>\n",
       "      <td>95.0</td>\n",
       "      <td>130.000000</td>\n",
       "      <td>90.0</td>\n",
       "      <td>3</td>\n",
       "      <td>3</td>\n",
       "      <td>0.0</td>\n",
       "      <td>0</td>\n",
       "      <td>1</td>\n",
       "      <td>1</td>\n",
       "      <td>61</td>\n",
       "      <td>2</td>\n",
       "      <td>30.0</td>\n",
       "    </tr>\n",
       "    <tr>\n",
       "      <th>9</th>\n",
       "      <td>1</td>\n",
       "      <td>164.0</td>\n",
       "      <td>68.0</td>\n",
       "      <td>110.000000</td>\n",
       "      <td>60.0</td>\n",
       "      <td>1</td>\n",
       "      <td>1</td>\n",
       "      <td>0.0</td>\n",
       "      <td>0</td>\n",
       "      <td>0</td>\n",
       "      <td>0</td>\n",
       "      <td>54</td>\n",
       "      <td>1</td>\n",
       "      <td>25.3</td>\n",
       "    </tr>\n",
       "    <tr>\n",
       "      <th>...</th>\n",
       "      <td>...</td>\n",
       "      <td>...</td>\n",
       "      <td>...</td>\n",
       "      <td>...</td>\n",
       "      <td>...</td>\n",
       "      <td>...</td>\n",
       "      <td>...</td>\n",
       "      <td>...</td>\n",
       "      <td>...</td>\n",
       "      <td>...</td>\n",
       "      <td>...</td>\n",
       "      <td>...</td>\n",
       "      <td>...</td>\n",
       "      <td>...</td>\n",
       "    </tr>\n",
       "    <tr>\n",
       "      <th>69994</th>\n",
       "      <td>1</td>\n",
       "      <td>165.0</td>\n",
       "      <td>80.0</td>\n",
       "      <td>128.817235</td>\n",
       "      <td>80.0</td>\n",
       "      <td>1</td>\n",
       "      <td>1</td>\n",
       "      <td>0.0</td>\n",
       "      <td>0</td>\n",
       "      <td>1</td>\n",
       "      <td>1</td>\n",
       "      <td>57</td>\n",
       "      <td>2</td>\n",
       "      <td>29.4</td>\n",
       "    </tr>\n",
       "    <tr>\n",
       "      <th>69995</th>\n",
       "      <td>2</td>\n",
       "      <td>168.0</td>\n",
       "      <td>76.0</td>\n",
       "      <td>120.000000</td>\n",
       "      <td>80.0</td>\n",
       "      <td>1</td>\n",
       "      <td>1</td>\n",
       "      <td>1.0</td>\n",
       "      <td>0</td>\n",
       "      <td>1</td>\n",
       "      <td>0</td>\n",
       "      <td>52</td>\n",
       "      <td>1</td>\n",
       "      <td>26.9</td>\n",
       "    </tr>\n",
       "    <tr>\n",
       "      <th>69997</th>\n",
       "      <td>2</td>\n",
       "      <td>183.0</td>\n",
       "      <td>105.0</td>\n",
       "      <td>180.000000</td>\n",
       "      <td>90.0</td>\n",
       "      <td>3</td>\n",
       "      <td>1</td>\n",
       "      <td>0.0</td>\n",
       "      <td>1</td>\n",
       "      <td>0</td>\n",
       "      <td>1</td>\n",
       "      <td>52</td>\n",
       "      <td>2</td>\n",
       "      <td>31.4</td>\n",
       "    </tr>\n",
       "    <tr>\n",
       "      <th>69998</th>\n",
       "      <td>1</td>\n",
       "      <td>163.0</td>\n",
       "      <td>72.0</td>\n",
       "      <td>135.000000</td>\n",
       "      <td>80.0</td>\n",
       "      <td>1</td>\n",
       "      <td>2</td>\n",
       "      <td>0.0</td>\n",
       "      <td>0</td>\n",
       "      <td>0</td>\n",
       "      <td>1</td>\n",
       "      <td>61</td>\n",
       "      <td>2</td>\n",
       "      <td>27.1</td>\n",
       "    </tr>\n",
       "    <tr>\n",
       "      <th>69999</th>\n",
       "      <td>1</td>\n",
       "      <td>170.0</td>\n",
       "      <td>72.0</td>\n",
       "      <td>120.000000</td>\n",
       "      <td>80.0</td>\n",
       "      <td>2</td>\n",
       "      <td>1</td>\n",
       "      <td>0.0</td>\n",
       "      <td>0</td>\n",
       "      <td>1</td>\n",
       "      <td>0</td>\n",
       "      <td>56</td>\n",
       "      <td>1</td>\n",
       "      <td>24.9</td>\n",
       "    </tr>\n",
       "  </tbody>\n",
       "</table>\n",
       "<p>51463 rows × 14 columns</p>\n",
       "</div>"
      ],
      "text/plain": [
       "       gender  height  weight  Systolic_blood_pressure  \\\n",
       "0           2   168.0    62.0               110.000000   \n",
       "2           1   165.0    64.0               130.000000   \n",
       "3           2   169.0    82.0               150.000000   \n",
       "7           2   178.0    95.0               130.000000   \n",
       "9           1   164.0    68.0               110.000000   \n",
       "...       ...     ...     ...                      ...   \n",
       "69994       1   165.0    80.0               128.817235   \n",
       "69995       2   168.0    76.0               120.000000   \n",
       "69997       2   183.0   105.0               180.000000   \n",
       "69998       1   163.0    72.0               135.000000   \n",
       "69999       1   170.0    72.0               120.000000   \n",
       "\n",
       "       Diastolic_blood_pressure  cholesterol  Glucose  smoke  Alcohol_intake  \\\n",
       "0                          80.0            1        1    0.0               0   \n",
       "2                          70.0            3        1    0.0               0   \n",
       "3                         100.0            1        1    0.0               0   \n",
       "7                          90.0            3        3    0.0               0   \n",
       "9                          60.0            1        1    0.0               0   \n",
       "...                         ...          ...      ...    ...             ...   \n",
       "69994                      80.0            1        1    0.0               0   \n",
       "69995                      80.0            1        1    1.0               0   \n",
       "69997                      90.0            3        1    0.0               1   \n",
       "69998                      80.0            1        2    0.0               0   \n",
       "69999                      80.0            2        1    0.0               0   \n",
       "\n",
       "       Physical_activity  cardio_disease_presence  age_years  Blood_pressure  \\\n",
       "0                      1                        0         50               1   \n",
       "2                      0                        1         51               2   \n",
       "3                      1                        1         48               3   \n",
       "7                      1                        1         61               2   \n",
       "9                      0                        0         54               1   \n",
       "...                  ...                      ...        ...             ...   \n",
       "69994                  1                        1         57               2   \n",
       "69995                  1                        0         52               1   \n",
       "69997                  0                        1         52               2   \n",
       "69998                  0                        1         61               2   \n",
       "69999                  1                        0         56               1   \n",
       "\n",
       "        BMI  \n",
       "0      22.0  \n",
       "2      23.5  \n",
       "3      28.7  \n",
       "7      30.0  \n",
       "9      25.3  \n",
       "...     ...  \n",
       "69994  29.4  \n",
       "69995  26.9  \n",
       "69997  31.4  \n",
       "69998  27.1  \n",
       "69999  24.9  \n",
       "\n",
       "[51463 rows x 14 columns]"
      ]
     },
     "execution_count": 398,
     "metadata": {},
     "output_type": "execute_result"
    }
   ],
   "source": [
    "Cardio_Disease"
   ]
  },
  {
   "cell_type": "markdown",
   "id": "fc5b8b5d",
   "metadata": {},
   "source": [
    "## 5. Dataset Preparation"
   ]
  },
  {
   "cell_type": "markdown",
   "id": "4fb0cef2",
   "metadata": {},
   "source": [
    "- I'm gonna create a new dataframe & store the tables that I decided to use for model training"
   ]
  },
  {
   "cell_type": "code",
   "execution_count": 399,
   "id": "1107c88d",
   "metadata": {},
   "outputs": [],
   "source": [
    "col_names = ['gender','age_years','BMI','cholesterol','Glucose','smoke','Alcohol_intake','Physical_activity','Blood_pressure','cardio_disease_presence']\n",
    "#Cardio_Disease_filtered = Cardio_Disease['gender']\n",
    "Cardio_Disease_filtered = pd.DataFrame(columns = col_names)\n",
    "Cardio_Disease_filtered['gender'] = Cardio_Disease['gender']\n",
    "Cardio_Disease_filtered['age_years'] = Cardio_Disease['age_years']\n",
    "Cardio_Disease_filtered['BMI'] = Cardio_Disease['BMI']\n",
    "Cardio_Disease_filtered['cholesterol'] = Cardio_Disease['cholesterol']\n",
    "Cardio_Disease_filtered['Glucose'] = Cardio_Disease['Glucose']\n",
    "Cardio_Disease_filtered['smoke'] = Cardio_Disease['smoke']\n",
    "Cardio_Disease_filtered['Alcohol_intake'] = Cardio_Disease['Alcohol_intake']\n",
    "Cardio_Disease_filtered['Physical_activity'] = Cardio_Disease['Physical_activity']\n",
    "Cardio_Disease_filtered['Blood_pressure'] = Cardio_Disease['Blood_pressure']\n",
    "Cardio_Disease_filtered['cardio_disease_presence'] = Cardio_Disease['cardio_disease_presence']"
   ]
  },
  {
   "cell_type": "code",
   "execution_count": 400,
   "id": "54d51618",
   "metadata": {
    "scrolled": false
   },
   "outputs": [
    {
     "data": {
      "text/plain": [
       "(51463, 10)"
      ]
     },
     "execution_count": 400,
     "metadata": {},
     "output_type": "execute_result"
    }
   ],
   "source": [
    "Cardio_Disease_filtered.shape"
   ]
  },
  {
   "cell_type": "code",
   "execution_count": 401,
   "id": "f1f124bf",
   "metadata": {},
   "outputs": [
    {
     "data": {
      "text/plain": [
       "<AxesSubplot:>"
      ]
     },
     "execution_count": 401,
     "metadata": {},
     "output_type": "execute_result"
    },
    {
     "data": {
      "image/png": "[encoded data removed]",
      "text/plain": [
       "<Figure size 432x288 with 2 Axes>"
      ]
     },
     "metadata": {
      "needs_background": "light"
     },
     "output_type": "display_data"
    }
   ],
   "source": [
    "sns.heatmap(Cardio_Disease_filtered.corr(), annot = True, fmt = '.0%')"
   ]
  },
  {
   "cell_type": "code",
   "execution_count": 402,
   "id": "1573ea40",
   "metadata": {},
   "outputs": [],
   "source": [
    "x = Cardio_Disease_filtered.drop(columns = ['cardio_disease_presence'], axis = 1)\n",
    "y = Cardio_Disease_filtered['cardio_disease_presence']"
   ]
  },
  {
   "cell_type": "code",
   "execution_count": 403,
   "id": "8e04c9b4",
   "metadata": {},
   "outputs": [
    {
     "data": {
      "text/html": [
       "<div>\n",
       "<style scoped>\n",
       "    .dataframe tbody tr th:only-of-type {\n",
       "        vertical-align: middle;\n",
       "    }\n",
       "\n",
       "    .dataframe tbody tr th {\n",
       "        vertical-align: top;\n",
       "    }\n",
       "\n",
       "    .dataframe thead th {\n",
       "        text-align: right;\n",
       "    }\n",
       "</style>\n",
       "<table border=\"1\" class=\"dataframe\">\n",
       "  <thead>\n",
       "    <tr style=\"text-align: right;\">\n",
       "      <th></th>\n",
       "      <th>gender</th>\n",
       "      <th>age_years</th>\n",
       "      <th>BMI</th>\n",
       "      <th>cholesterol</th>\n",
       "      <th>Glucose</th>\n",
       "      <th>smoke</th>\n",
       "      <th>Alcohol_intake</th>\n",
       "      <th>Physical_activity</th>\n",
       "      <th>Blood_pressure</th>\n",
       "    </tr>\n",
       "  </thead>\n",
       "  <tbody>\n",
       "    <tr>\n",
       "      <th>0</th>\n",
       "      <td>2</td>\n",
       "      <td>50</td>\n",
       "      <td>22.0</td>\n",
       "      <td>1</td>\n",
       "      <td>1</td>\n",
       "      <td>0.0</td>\n",
       "      <td>0</td>\n",
       "      <td>1</td>\n",
       "      <td>1</td>\n",
       "    </tr>\n",
       "    <tr>\n",
       "      <th>2</th>\n",
       "      <td>1</td>\n",
       "      <td>51</td>\n",
       "      <td>23.5</td>\n",
       "      <td>3</td>\n",
       "      <td>1</td>\n",
       "      <td>0.0</td>\n",
       "      <td>0</td>\n",
       "      <td>0</td>\n",
       "      <td>2</td>\n",
       "    </tr>\n",
       "    <tr>\n",
       "      <th>3</th>\n",
       "      <td>2</td>\n",
       "      <td>48</td>\n",
       "      <td>28.7</td>\n",
       "      <td>1</td>\n",
       "      <td>1</td>\n",
       "      <td>0.0</td>\n",
       "      <td>0</td>\n",
       "      <td>1</td>\n",
       "      <td>3</td>\n",
       "    </tr>\n",
       "    <tr>\n",
       "      <th>7</th>\n",
       "      <td>2</td>\n",
       "      <td>61</td>\n",
       "      <td>30.0</td>\n",
       "      <td>3</td>\n",
       "      <td>3</td>\n",
       "      <td>0.0</td>\n",
       "      <td>0</td>\n",
       "      <td>1</td>\n",
       "      <td>2</td>\n",
       "    </tr>\n",
       "    <tr>\n",
       "      <th>9</th>\n",
       "      <td>1</td>\n",
       "      <td>54</td>\n",
       "      <td>25.3</td>\n",
       "      <td>1</td>\n",
       "      <td>1</td>\n",
       "      <td>0.0</td>\n",
       "      <td>0</td>\n",
       "      <td>0</td>\n",
       "      <td>1</td>\n",
       "    </tr>\n",
       "  </tbody>\n",
       "</table>\n",
       "</div>"
      ],
      "text/plain": [
       "   gender  age_years   BMI  cholesterol  Glucose  smoke  Alcohol_intake  \\\n",
       "0       2         50  22.0            1        1    0.0               0   \n",
       "2       1         51  23.5            3        1    0.0               0   \n",
       "3       2         48  28.7            1        1    0.0               0   \n",
       "7       2         61  30.0            3        3    0.0               0   \n",
       "9       1         54  25.3            1        1    0.0               0   \n",
       "\n",
       "   Physical_activity  Blood_pressure  \n",
       "0                  1               1  \n",
       "2                  0               2  \n",
       "3                  1               3  \n",
       "7                  1               2  \n",
       "9                  0               1  "
      ]
     },
     "execution_count": 403,
     "metadata": {},
     "output_type": "execute_result"
    }
   ],
   "source": [
    "x.head()"
   ]
  },
  {
   "cell_type": "code",
   "execution_count": 404,
   "id": "faf34890",
   "metadata": {},
   "outputs": [],
   "source": [
    "X_train, X_test, y_train, y_test = train_test_split(x, y,test_size = 0.25, random_state=20)"
   ]
  },
  {
   "cell_type": "markdown",
   "id": "c569d6c7",
   "metadata": {},
   "source": [
    "## 6. Model Selection and Development"
   ]
  },
  {
   "cell_type": "markdown",
   "id": "251c4bd7",
   "metadata": {},
   "source": [
    "   #### Logistic Regression "
   ]
  },
  {
   "cell_type": "code",
   "execution_count": 405,
   "id": "9427310b",
   "metadata": {},
   "outputs": [],
   "source": [
    "logistic_model = LogisticRegression() "
   ]
  },
  {
   "cell_type": "markdown",
   "id": "a1ff2985",
   "metadata": {},
   "source": [
    "## 7. Training"
   ]
  },
  {
   "cell_type": "markdown",
   "id": "a3fd9dac",
   "metadata": {},
   "source": [
    "- training the logistic regression "
   ]
  },
  {
   "cell_type": "code",
   "execution_count": 406,
   "id": "3ee15a6e",
   "metadata": {},
   "outputs": [],
   "source": [
    "# I might use it\n",
    "scale = StandardScaler()\n",
    "X_train_scaled = scale.fit_transform(X_train)\n",
    "X_test_scaled = scale.fit_transform(X_test)"
   ]
  },
  {
   "cell_type": "code",
   "execution_count": 407,
   "id": "578ed9e7",
   "metadata": {},
   "outputs": [
    {
     "data": {
      "text/plain": [
       "LogisticRegression()"
      ]
     },
     "execution_count": 407,
     "metadata": {},
     "output_type": "execute_result"
    }
   ],
   "source": [
    "logistic_model.fit(X_train_scaled, y_train)"
   ]
  },
  {
   "cell_type": "code",
   "execution_count": 408,
   "id": "b5c31719",
   "metadata": {},
   "outputs": [
    {
     "data": {
      "text/plain": [
       "array([[ 0.02584967,  0.36154756,  0.17225696,  0.3043443 , -0.07391398,\n",
       "        -0.06036561, -0.04928406, -0.08345084,  0.83284543]])"
      ]
     },
     "execution_count": 408,
     "metadata": {},
     "output_type": "execute_result"
    }
   ],
   "source": [
    "logistic_model.coef_"
   ]
  },
  {
   "cell_type": "code",
   "execution_count": 409,
   "id": "4c924a87",
   "metadata": {},
   "outputs": [
    {
     "data": {
      "text/plain": [
       "array([0.01991968])"
      ]
     },
     "execution_count": 409,
     "metadata": {},
     "output_type": "execute_result"
    }
   ],
   "source": [
    "logistic_model.intercept_"
   ]
  },
  {
   "cell_type": "markdown",
   "id": "55997620",
   "metadata": {},
   "source": [
    "## 8. Evaluation"
   ]
  },
  {
   "cell_type": "code",
   "execution_count": 410,
   "id": "0ced90bf",
   "metadata": {},
   "outputs": [
    {
     "name": "stdout",
     "output_type": "stream",
     "text": [
      "The score for logistic regression is\n",
      "Training:  71.19%\n",
      "Test set:  71.58%\n"
     ]
    }
   ],
   "source": [
    "print(\"The score for logistic regression is\")\n",
    "print(\"Training: {:6.2f}%\".format(100*logistic_model.score(X_train_scaled, y_train)))\n",
    "print(\"Test set: {:6.2f}%\".format(100*logistic_model.score(X_test_scaled, y_test)))"
   ]
  },
  {
   "cell_type": "code",
   "execution_count": 411,
   "id": "7f62ea15",
   "metadata": {},
   "outputs": [],
   "source": [
    "y_probab_predict = logistic_model.predict_proba(X_test_scaled)"
   ]
  },
  {
   "cell_type": "code",
   "execution_count": 412,
   "id": "dc629dea",
   "metadata": {},
   "outputs": [
    {
     "data": {
      "text/plain": [
       "array([[0.20693705, 0.79306295],\n",
       "       [0.5793035 , 0.4206965 ],\n",
       "       [0.46743111, 0.53256889],\n",
       "       ...,\n",
       "       [0.31666432, 0.68333568],\n",
       "       [0.63346326, 0.36653674],\n",
       "       [0.76294264, 0.23705736]])"
      ]
     },
     "execution_count": 412,
     "metadata": {},
     "output_type": "execute_result"
    }
   ],
   "source": [
    "y_probab_predict"
   ]
  },
  {
   "cell_type": "code",
   "execution_count": 413,
   "id": "d603fee4",
   "metadata": {},
   "outputs": [],
   "source": [
    "y_predict = logistic_model.predict(X_test_scaled)"
   ]
  },
  {
   "cell_type": "code",
   "execution_count": 414,
   "id": "f1125525",
   "metadata": {},
   "outputs": [
    {
     "data": {
      "image/png": "[encoded data removed]",
      "text/plain": [
       "<Figure size 600x400 with 2 Axes>"
      ]
     },
     "metadata": {
      "needs_background": "light"
     },
     "output_type": "display_data"
    }
   ],
   "source": [
    "logistic_model_confusion = confusion_matrix(y_test, y_predict)\n",
    "\n",
    "plt.figure(dpi=100)\n",
    "cmap = sns.cubehelix_palette(light = 1 , as_cmap = True)\n",
    "sns.heatmap(logistic_model_confusion, cmap=cmap,  annot=True, square=True, fmt ='g')\n",
    "\n",
    "plt.xlabel('Predicted disease presence')\n",
    "plt.ylabel('Actual disease_presence')\n",
    "plt.title('Logistic regression confusion matrix');"
   ]
  },
  {
   "cell_type": "code",
   "execution_count": 415,
   "id": "3244bca8",
   "metadata": {},
   "outputs": [
    {
     "name": "stdout",
     "output_type": "stream",
     "text": [
      "Precision: 0.7373,   Recall: 0.6623\n"
     ]
    }
   ],
   "source": [
    "print(\"Precision: {:6.4f},   Recall: {:6.4f}\".format(precision_score(y_test, y_predict), \n",
    "                                                     recall_score(y_test, y_predict)))"
   ]
  },
  {
   "cell_type": "markdown",
   "id": "6f297c9f",
   "metadata": {},
   "source": [
    "#### Here I'm exploring the treshold and trying different treshold values "
   ]
  },
  {
   "cell_type": "code",
   "execution_count": 416,
   "id": "e6fdc173",
   "metadata": {},
   "outputs": [],
   "source": [
    "false_positive_rate, true_positive_rate, thresholds = roc_curve(y_test, y_probab_predict[:,1])"
   ]
  },
  {
   "cell_type": "code",
   "execution_count": 417,
   "id": "92458636",
   "metadata": {},
   "outputs": [
    {
     "data": {
      "image/png": "[encoded data removed]",
      "text/plain": [
       "<Figure size 432x288 with 1 Axes>"
      ]
     },
     "metadata": {
      "needs_background": "light"
     },
     "output_type": "display_data"
    }
   ],
   "source": [
    "plt.plot(false_positive_rate, true_positive_rate,lw=2)\n",
    "plt.plot([0,1],[0,1],c='black',ls='-')\n",
    "plt.xlim([-0.05,1.05])\n",
    "plt.ylim([-0.05,1.05])\n",
    "\n",
    "\n",
    "plt.xlabel('False positive rate')\n",
    "plt.ylabel('True positive rate')\n",
    "plt.title('ROC curve for Cardiovascular Disease problem');"
   ]
  },
  {
   "cell_type": "code",
   "execution_count": 418,
   "id": "874d89f3",
   "metadata": {},
   "outputs": [
    {
     "name": "stdout",
     "output_type": "stream",
     "text": [
      "ROC AUC score =  0.7750884996118306\n"
     ]
    }
   ],
   "source": [
    "print(\"ROC AUC score = \", roc_auc_score(y_test, y_probab_predict[:,1]))"
   ]
  }
 ],
 "metadata": {
  "kernelspec": {
   "display_name": "Python 3",
   "language": "python",
   "name": "python3"
  },
  "language_info": {
   "codemirror_mode": {
    "name": "ipython",
    "version": 3
   },
   "file_extension": ".py",
   "mimetype": "text/x-python",
   "name": "python",
   "nbconvert_exporter": "python",
   "pygments_lexer": "ipython3",
   "version": "3.8.8"
  }
 },
 "nbformat": 4,
 "nbformat_minor": 5
}
