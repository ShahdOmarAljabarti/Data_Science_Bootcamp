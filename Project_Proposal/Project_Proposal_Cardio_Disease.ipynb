{
 "cells": [
  {
   "cell_type": "markdown",
   "id": "eb2ad2bd",
   "metadata": {},
   "source": [
    "## Cardiovascular Disease \n",
    "Predict the presence cardiovascular disease"
   ]
  },
  {
   "cell_type": "code",
   "execution_count": 560,
   "id": "c73c79dc",
   "metadata": {},
   "outputs": [],
   "source": [
    "import pandas as pd\n",
    "import numpy as np"
   ]
  },
  {
   "cell_type": "code",
   "execution_count": 561,
   "id": "9b1ffbd5",
   "metadata": {},
   "outputs": [],
   "source": [
    "Cardio_Disease = pd.read_csv('C:/Users/Omar/Downloads/Cardio_Disease.csv')"
   ]
  },
  {
   "cell_type": "code",
   "execution_count": 562,
   "id": "4db708e2",
   "metadata": {},
   "outputs": [
    {
     "name": "stdout",
     "output_type": "stream",
     "text": [
      "<class 'pandas.core.frame.DataFrame'>\n",
      "RangeIndex: 70000 entries, 0 to 69999\n",
      "Data columns (total 13 columns):\n",
      " #   Column       Non-Null Count  Dtype  \n",
      "---  ------       --------------  -----  \n",
      " 0   id           70000 non-null  int64  \n",
      " 1   age          70000 non-null  int64  \n",
      " 2   gender       70000 non-null  int64  \n",
      " 3   height       69996 non-null  float64\n",
      " 4   weight       70000 non-null  float64\n",
      " 5   ap_hi        69997 non-null  float64\n",
      " 6   ap_lo        69999 non-null  float64\n",
      " 7   cholesterol  70000 non-null  int64  \n",
      " 8   gluc         70000 non-null  int64  \n",
      " 9   smoke        69999 non-null  float64\n",
      " 10  alco         70000 non-null  int64  \n",
      " 11  active       70000 non-null  int64  \n",
      " 12  cardio       70000 non-null  int64  \n",
      "dtypes: float64(5), int64(8)\n",
      "memory usage: 6.9 MB\n"
     ]
    }
   ],
   "source": [
    "Cardio_Disease.info()"
   ]
  },
  {
   "cell_type": "code",
   "execution_count": 563,
   "id": "14868e1a",
   "metadata": {},
   "outputs": [
    {
     "data": {
      "text/plain": [
       "(70000, 13)"
      ]
     },
     "execution_count": 563,
     "metadata": {},
     "output_type": "execute_result"
    }
   ],
   "source": [
    "Cardio_Disease.shape"
   ]
  },
  {
   "cell_type": "code",
   "execution_count": 564,
   "id": "bd1668f5",
   "metadata": {},
   "outputs": [
    {
     "data": {
      "text/plain": [
       "9"
      ]
     },
     "execution_count": 564,
     "metadata": {},
     "output_type": "execute_result"
    }
   ],
   "source": [
    "Cardio_Disease.isna().sum().sum()"
   ]
  },
  {
   "cell_type": "code",
   "execution_count": 565,
   "id": "fe2e01e8",
   "metadata": {
    "scrolled": true
   },
   "outputs": [
    {
     "data": {
      "text/html": [
       "<div>\n",
       "<style scoped>\n",
       "    .dataframe tbody tr th:only-of-type {\n",
       "        vertical-align: middle;\n",
       "    }\n",
       "\n",
       "    .dataframe tbody tr th {\n",
       "        vertical-align: top;\n",
       "    }\n",
       "\n",
       "    .dataframe thead th {\n",
       "        text-align: right;\n",
       "    }\n",
       "</style>\n",
       "<table border=\"1\" class=\"dataframe\">\n",
       "  <thead>\n",
       "    <tr style=\"text-align: right;\">\n",
       "      <th></th>\n",
       "      <th>id</th>\n",
       "      <th>age</th>\n",
       "      <th>gender</th>\n",
       "      <th>height</th>\n",
       "      <th>weight</th>\n",
       "      <th>ap_hi</th>\n",
       "      <th>ap_lo</th>\n",
       "      <th>cholesterol</th>\n",
       "      <th>gluc</th>\n",
       "      <th>smoke</th>\n",
       "      <th>alco</th>\n",
       "      <th>active</th>\n",
       "      <th>cardio</th>\n",
       "    </tr>\n",
       "  </thead>\n",
       "  <tbody>\n",
       "    <tr>\n",
       "      <th>0</th>\n",
       "      <td>0</td>\n",
       "      <td>18393</td>\n",
       "      <td>2</td>\n",
       "      <td>168.0</td>\n",
       "      <td>62.0</td>\n",
       "      <td>110.0</td>\n",
       "      <td>80.0</td>\n",
       "      <td>1</td>\n",
       "      <td>1</td>\n",
       "      <td>0.0</td>\n",
       "      <td>0</td>\n",
       "      <td>1</td>\n",
       "      <td>0</td>\n",
       "    </tr>\n",
       "    <tr>\n",
       "      <th>1</th>\n",
       "      <td>1</td>\n",
       "      <td>20228</td>\n",
       "      <td>1</td>\n",
       "      <td>156.0</td>\n",
       "      <td>85.0</td>\n",
       "      <td>140.0</td>\n",
       "      <td>90.0</td>\n",
       "      <td>3</td>\n",
       "      <td>1</td>\n",
       "      <td>0.0</td>\n",
       "      <td>0</td>\n",
       "      <td>1</td>\n",
       "      <td>1</td>\n",
       "    </tr>\n",
       "    <tr>\n",
       "      <th>2</th>\n",
       "      <td>2</td>\n",
       "      <td>18857</td>\n",
       "      <td>1</td>\n",
       "      <td>165.0</td>\n",
       "      <td>64.0</td>\n",
       "      <td>130.0</td>\n",
       "      <td>70.0</td>\n",
       "      <td>3</td>\n",
       "      <td>1</td>\n",
       "      <td>0.0</td>\n",
       "      <td>0</td>\n",
       "      <td>0</td>\n",
       "      <td>1</td>\n",
       "    </tr>\n",
       "    <tr>\n",
       "      <th>3</th>\n",
       "      <td>3</td>\n",
       "      <td>17623</td>\n",
       "      <td>2</td>\n",
       "      <td>169.0</td>\n",
       "      <td>82.0</td>\n",
       "      <td>150.0</td>\n",
       "      <td>100.0</td>\n",
       "      <td>1</td>\n",
       "      <td>1</td>\n",
       "      <td>0.0</td>\n",
       "      <td>0</td>\n",
       "      <td>1</td>\n",
       "      <td>1</td>\n",
       "    </tr>\n",
       "    <tr>\n",
       "      <th>4</th>\n",
       "      <td>4</td>\n",
       "      <td>17474</td>\n",
       "      <td>1</td>\n",
       "      <td>156.0</td>\n",
       "      <td>56.0</td>\n",
       "      <td>100.0</td>\n",
       "      <td>60.0</td>\n",
       "      <td>1</td>\n",
       "      <td>1</td>\n",
       "      <td>0.0</td>\n",
       "      <td>0</td>\n",
       "      <td>0</td>\n",
       "      <td>0</td>\n",
       "    </tr>\n",
       "  </tbody>\n",
       "</table>\n",
       "</div>"
      ],
      "text/plain": [
       "   id    age  gender  height  weight  ap_hi  ap_lo  cholesterol  gluc  smoke  \\\n",
       "0   0  18393       2   168.0    62.0  110.0   80.0            1     1    0.0   \n",
       "1   1  20228       1   156.0    85.0  140.0   90.0            3     1    0.0   \n",
       "2   2  18857       1   165.0    64.0  130.0   70.0            3     1    0.0   \n",
       "3   3  17623       2   169.0    82.0  150.0  100.0            1     1    0.0   \n",
       "4   4  17474       1   156.0    56.0  100.0   60.0            1     1    0.0   \n",
       "\n",
       "   alco  active  cardio  \n",
       "0     0       1       0  \n",
       "1     0       1       1  \n",
       "2     0       0       1  \n",
       "3     0       1       1  \n",
       "4     0       0       0  "
      ]
     },
     "execution_count": 565,
     "metadata": {},
     "output_type": "execute_result"
    }
   ],
   "source": [
    "Cardio_Disease.head()"
   ]
  },
  {
   "cell_type": "markdown",
   "id": "ff7d9904",
   "metadata": {},
   "source": [
    "#### - rename some columns to understandable names "
   ]
  },
  {
   "cell_type": "code",
   "execution_count": 566,
   "id": "6b69d352",
   "metadata": {},
   "outputs": [
    {
     "name": "stdout",
     "output_type": "stream",
     "text": [
      "<class 'pandas.core.frame.DataFrame'>\n",
      "RangeIndex: 70000 entries, 0 to 69999\n",
      "Data columns (total 13 columns):\n",
      " #   Column                    Non-Null Count  Dtype  \n",
      "---  ------                    --------------  -----  \n",
      " 0   id                        70000 non-null  int64  \n",
      " 1   age_days                  70000 non-null  int64  \n",
      " 2   gender                    70000 non-null  int64  \n",
      " 3   height                    69996 non-null  float64\n",
      " 4   weight                    70000 non-null  float64\n",
      " 5   Systolic_blood_pressure   69997 non-null  float64\n",
      " 6   Diastolic_blood_pressure  69999 non-null  float64\n",
      " 7   cholesterol               70000 non-null  int64  \n",
      " 8   Glucose                   70000 non-null  int64  \n",
      " 9   smoke                     69999 non-null  float64\n",
      " 10  Alcohol_intake            70000 non-null  int64  \n",
      " 11  Physical_activity         70000 non-null  int64  \n",
      " 12  cardio_disease_presence   70000 non-null  int64  \n",
      "dtypes: float64(5), int64(8)\n",
      "memory usage: 6.9 MB\n"
     ]
    }
   ],
   "source": [
    "Cardio_Disease.rename(columns={\n",
    "    'age' : 'age_days',\n",
    "    'ap_hi' : 'Systolic_blood_pressure',\n",
    "    'ap_lo' : 'Diastolic_blood_pressure',\n",
    "    'alco' : 'Alcohol_intake',\n",
    "    'active' : 'Physical_activity',\n",
    "    'cardio' : 'cardio_disease_presence',\n",
    "    'gluc' : 'Glucose'\n",
    "}, inplace = True)\n",
    "Cardio_Disease.info()"
   ]
  },
  {
   "cell_type": "code",
   "execution_count": 567,
   "id": "93a4d7a2",
   "metadata": {},
   "outputs": [
    {
     "data": {
      "text/plain": [
       "(70000, 13)"
      ]
     },
     "execution_count": 567,
     "metadata": {},
     "output_type": "execute_result"
    }
   ],
   "source": [
    "Cardio_Disease.shape"
   ]
  },
  {
   "cell_type": "code",
   "execution_count": 568,
   "id": "47da094a",
   "metadata": {},
   "outputs": [
    {
     "data": {
      "text/plain": [
       "(70000, 13)"
      ]
     },
     "execution_count": 568,
     "metadata": {},
     "output_type": "execute_result"
    }
   ],
   "source": [
    "Cardio_Disease.drop_duplicates().shape"
   ]
  },
  {
   "attachments": {},
   "cell_type": "markdown",
   "id": "128c7c19",
   "metadata": {},
   "source": [
    "#### - Fill the null values & drop rows with missing value"
   ]
  },
  {
   "cell_type": "code",
   "execution_count": 569,
   "id": "d8b43384",
   "metadata": {},
   "outputs": [
    {
     "data": {
      "text/plain": [
       "(70000, 13)"
      ]
     },
     "execution_count": 569,
     "metadata": {},
     "output_type": "execute_result"
    }
   ],
   "source": [
    "Cardio_Disease.height = Cardio_Disease.height.fillna(round(Cardio_Disease.height.mean()))\n",
    "Cardio_Disease.Systolic_blood_pressure = Cardio_Disease.Systolic_blood_pressure.fillna(Cardio_Disease.Systolic_blood_pressure.mean())\n",
    "Cardio_Disease.Diastolic_blood_pressure = Cardio_Disease.Diastolic_blood_pressure.fillna(Cardio_Disease.Diastolic_blood_pressure.mean())\n",
    "Cardio_Disease.shape"
   ]
  },
  {
   "cell_type": "code",
   "execution_count": 570,
   "id": "7dfdee97",
   "metadata": {},
   "outputs": [
    {
     "name": "stdout",
     "output_type": "stream",
     "text": [
      "<class 'pandas.core.frame.DataFrame'>\n",
      "Int64Index: 69999 entries, 0 to 69999\n",
      "Data columns (total 13 columns):\n",
      " #   Column                    Non-Null Count  Dtype  \n",
      "---  ------                    --------------  -----  \n",
      " 0   id                        69999 non-null  int64  \n",
      " 1   age_days                  69999 non-null  int64  \n",
      " 2   gender                    69999 non-null  int64  \n",
      " 3   height                    69999 non-null  float64\n",
      " 4   weight                    69999 non-null  float64\n",
      " 5   Systolic_blood_pressure   69999 non-null  float64\n",
      " 6   Diastolic_blood_pressure  69999 non-null  float64\n",
      " 7   cholesterol               69999 non-null  int64  \n",
      " 8   Glucose                   69999 non-null  int64  \n",
      " 9   smoke                     69999 non-null  float64\n",
      " 10  Alcohol_intake            69999 non-null  int64  \n",
      " 11  Physical_activity         69999 non-null  int64  \n",
      " 12  cardio_disease_presence   69999 non-null  int64  \n",
      "dtypes: float64(5), int64(8)\n",
      "memory usage: 7.5 MB\n"
     ]
    }
   ],
   "source": [
    "Cardio_Disease.dropna(subset=['smoke'], inplace = True)\n",
    "Cardio_Disease.info()"
   ]
  },
  {
   "cell_type": "markdown",
   "id": "71927475",
   "metadata": {},
   "source": [
    "#### - calculate the age in years "
   ]
  },
  {
   "cell_type": "code",
   "execution_count": 571,
   "id": "ac1e79e3",
   "metadata": {},
   "outputs": [],
   "source": [
    "def Days_to_Years(x):\n",
    "    return (x/365.25)\n",
    "\n",
    "Cardio_Disease['age_years'] = Cardio_Disease.age_days.apply(Days_to_Years)\n",
    "Cardio_Disease['age_years'] = Cardio_Disease.age_years.astype('int')"
   ]
  },
  {
   "cell_type": "code",
   "execution_count": 572,
   "id": "e5745588",
   "metadata": {},
   "outputs": [
    {
     "data": {
      "text/html": [
       "<div>\n",
       "<style scoped>\n",
       "    .dataframe tbody tr th:only-of-type {\n",
       "        vertical-align: middle;\n",
       "    }\n",
       "\n",
       "    .dataframe tbody tr th {\n",
       "        vertical-align: top;\n",
       "    }\n",
       "\n",
       "    .dataframe thead th {\n",
       "        text-align: right;\n",
       "    }\n",
       "</style>\n",
       "<table border=\"1\" class=\"dataframe\">\n",
       "  <thead>\n",
       "    <tr style=\"text-align: right;\">\n",
       "      <th></th>\n",
       "      <th>id</th>\n",
       "      <th>age_days</th>\n",
       "      <th>gender</th>\n",
       "      <th>height</th>\n",
       "      <th>weight</th>\n",
       "      <th>Systolic_blood_pressure</th>\n",
       "      <th>Diastolic_blood_pressure</th>\n",
       "      <th>cholesterol</th>\n",
       "      <th>Glucose</th>\n",
       "      <th>smoke</th>\n",
       "      <th>Alcohol_intake</th>\n",
       "      <th>Physical_activity</th>\n",
       "      <th>cardio_disease_presence</th>\n",
       "      <th>age_years</th>\n",
       "    </tr>\n",
       "  </thead>\n",
       "  <tbody>\n",
       "    <tr>\n",
       "      <th>0</th>\n",
       "      <td>0</td>\n",
       "      <td>18393</td>\n",
       "      <td>2</td>\n",
       "      <td>168.0</td>\n",
       "      <td>62.0</td>\n",
       "      <td>110.0</td>\n",
       "      <td>80.0</td>\n",
       "      <td>1</td>\n",
       "      <td>1</td>\n",
       "      <td>0.0</td>\n",
       "      <td>0</td>\n",
       "      <td>1</td>\n",
       "      <td>0</td>\n",
       "      <td>50</td>\n",
       "    </tr>\n",
       "    <tr>\n",
       "      <th>1</th>\n",
       "      <td>1</td>\n",
       "      <td>20228</td>\n",
       "      <td>1</td>\n",
       "      <td>156.0</td>\n",
       "      <td>85.0</td>\n",
       "      <td>140.0</td>\n",
       "      <td>90.0</td>\n",
       "      <td>3</td>\n",
       "      <td>1</td>\n",
       "      <td>0.0</td>\n",
       "      <td>0</td>\n",
       "      <td>1</td>\n",
       "      <td>1</td>\n",
       "      <td>55</td>\n",
       "    </tr>\n",
       "    <tr>\n",
       "      <th>2</th>\n",
       "      <td>2</td>\n",
       "      <td>18857</td>\n",
       "      <td>1</td>\n",
       "      <td>165.0</td>\n",
       "      <td>64.0</td>\n",
       "      <td>130.0</td>\n",
       "      <td>70.0</td>\n",
       "      <td>3</td>\n",
       "      <td>1</td>\n",
       "      <td>0.0</td>\n",
       "      <td>0</td>\n",
       "      <td>0</td>\n",
       "      <td>1</td>\n",
       "      <td>51</td>\n",
       "    </tr>\n",
       "    <tr>\n",
       "      <th>3</th>\n",
       "      <td>3</td>\n",
       "      <td>17623</td>\n",
       "      <td>2</td>\n",
       "      <td>169.0</td>\n",
       "      <td>82.0</td>\n",
       "      <td>150.0</td>\n",
       "      <td>100.0</td>\n",
       "      <td>1</td>\n",
       "      <td>1</td>\n",
       "      <td>0.0</td>\n",
       "      <td>0</td>\n",
       "      <td>1</td>\n",
       "      <td>1</td>\n",
       "      <td>48</td>\n",
       "    </tr>\n",
       "    <tr>\n",
       "      <th>4</th>\n",
       "      <td>4</td>\n",
       "      <td>17474</td>\n",
       "      <td>1</td>\n",
       "      <td>156.0</td>\n",
       "      <td>56.0</td>\n",
       "      <td>100.0</td>\n",
       "      <td>60.0</td>\n",
       "      <td>1</td>\n",
       "      <td>1</td>\n",
       "      <td>0.0</td>\n",
       "      <td>0</td>\n",
       "      <td>0</td>\n",
       "      <td>0</td>\n",
       "      <td>47</td>\n",
       "    </tr>\n",
       "  </tbody>\n",
       "</table>\n",
       "</div>"
      ],
      "text/plain": [
       "   id  age_days  gender  height  weight  Systolic_blood_pressure  \\\n",
       "0   0     18393       2   168.0    62.0                    110.0   \n",
       "1   1     20228       1   156.0    85.0                    140.0   \n",
       "2   2     18857       1   165.0    64.0                    130.0   \n",
       "3   3     17623       2   169.0    82.0                    150.0   \n",
       "4   4     17474       1   156.0    56.0                    100.0   \n",
       "\n",
       "   Diastolic_blood_pressure  cholesterol  Glucose  smoke  Alcohol_intake  \\\n",
       "0                      80.0            1        1    0.0               0   \n",
       "1                      90.0            3        1    0.0               0   \n",
       "2                      70.0            3        1    0.0               0   \n",
       "3                     100.0            1        1    0.0               0   \n",
       "4                      60.0            1        1    0.0               0   \n",
       "\n",
       "   Physical_activity  cardio_disease_presence  age_years  \n",
       "0                  1                        0         50  \n",
       "1                  1                        1         55  \n",
       "2                  0                        1         51  \n",
       "3                  1                        1         48  \n",
       "4                  0                        0         47  "
      ]
     },
     "execution_count": 572,
     "metadata": {},
     "output_type": "execute_result"
    }
   ],
   "source": [
    "Cardio_Disease.head()"
   ]
  },
  {
   "cell_type": "markdown",
   "id": "b5ef60ff",
   "metadata": {},
   "source": [
    "#### - drop the id column "
   ]
  },
  {
   "cell_type": "code",
   "execution_count": 573,
   "id": "53927da6",
   "metadata": {},
   "outputs": [],
   "source": [
    "Cardio_Disease.drop([\"id\"],axis=1, inplace = True)\n",
    "Cardio_Disease.drop([\"age_days\"],axis=1, inplace = True)"
   ]
  },
  {
   "cell_type": "code",
   "execution_count": 574,
   "id": "9d7a07e3",
   "metadata": {},
   "outputs": [
    {
     "name": "stdout",
     "output_type": "stream",
     "text": [
      "<class 'pandas.core.frame.DataFrame'>\n",
      "Int64Index: 69999 entries, 0 to 69999\n",
      "Data columns (total 12 columns):\n",
      " #   Column                    Non-Null Count  Dtype  \n",
      "---  ------                    --------------  -----  \n",
      " 0   gender                    69999 non-null  int64  \n",
      " 1   height                    69999 non-null  float64\n",
      " 2   weight                    69999 non-null  float64\n",
      " 3   Systolic_blood_pressure   69999 non-null  float64\n",
      " 4   Diastolic_blood_pressure  69999 non-null  float64\n",
      " 5   cholesterol               69999 non-null  int64  \n",
      " 6   Glucose                   69999 non-null  int64  \n",
      " 7   smoke                     69999 non-null  float64\n",
      " 8   Alcohol_intake            69999 non-null  int64  \n",
      " 9   Physical_activity         69999 non-null  int64  \n",
      " 10  cardio_disease_presence   69999 non-null  int64  \n",
      " 11  age_years                 69999 non-null  int32  \n",
      "dtypes: float64(5), int32(1), int64(6)\n",
      "memory usage: 6.7 MB\n"
     ]
    }
   ],
   "source": [
    "Cardio_Disease.info()"
   ]
  },
  {
   "cell_type": "code",
   "execution_count": 575,
   "id": "0f30f9de",
   "metadata": {},
   "outputs": [
    {
     "data": {
      "text/html": [
       "<div>\n",
       "<style scoped>\n",
       "    .dataframe tbody tr th:only-of-type {\n",
       "        vertical-align: middle;\n",
       "    }\n",
       "\n",
       "    .dataframe tbody tr th {\n",
       "        vertical-align: top;\n",
       "    }\n",
       "\n",
       "    .dataframe thead th {\n",
       "        text-align: right;\n",
       "    }\n",
       "</style>\n",
       "<table border=\"1\" class=\"dataframe\">\n",
       "  <thead>\n",
       "    <tr style=\"text-align: right;\">\n",
       "      <th></th>\n",
       "      <th>gender</th>\n",
       "      <th>height</th>\n",
       "      <th>weight</th>\n",
       "      <th>Systolic_blood_pressure</th>\n",
       "      <th>Diastolic_blood_pressure</th>\n",
       "      <th>cholesterol</th>\n",
       "      <th>Glucose</th>\n",
       "      <th>smoke</th>\n",
       "      <th>Alcohol_intake</th>\n",
       "      <th>Physical_activity</th>\n",
       "      <th>cardio_disease_presence</th>\n",
       "      <th>age_years</th>\n",
       "    </tr>\n",
       "  </thead>\n",
       "  <tbody>\n",
       "    <tr>\n",
       "      <th>count</th>\n",
       "      <td>69999.000000</td>\n",
       "      <td>69999.000000</td>\n",
       "      <td>69999.000000</td>\n",
       "      <td>69999.000000</td>\n",
       "      <td>69999.000000</td>\n",
       "      <td>69999.000000</td>\n",
       "      <td>69999.000000</td>\n",
       "      <td>69999.000000</td>\n",
       "      <td>69999.000000</td>\n",
       "      <td>69999.000000</td>\n",
       "      <td>69999.000000</td>\n",
       "      <td>69999.000000</td>\n",
       "    </tr>\n",
       "    <tr>\n",
       "      <th>mean</th>\n",
       "      <td>1.349576</td>\n",
       "      <td>164.359277</td>\n",
       "      <td>74.204950</td>\n",
       "      <td>128.817075</td>\n",
       "      <td>96.630747</td>\n",
       "      <td>1.366862</td>\n",
       "      <td>1.226446</td>\n",
       "      <td>0.088130</td>\n",
       "      <td>0.053772</td>\n",
       "      <td>0.803726</td>\n",
       "      <td>0.499693</td>\n",
       "      <td>52.803140</td>\n",
       "    </tr>\n",
       "    <tr>\n",
       "      <th>std</th>\n",
       "      <td>0.476840</td>\n",
       "      <td>8.210033</td>\n",
       "      <td>14.394528</td>\n",
       "      <td>154.012486</td>\n",
       "      <td>188.473864</td>\n",
       "      <td>0.680251</td>\n",
       "      <td>0.572267</td>\n",
       "      <td>0.283486</td>\n",
       "      <td>0.225569</td>\n",
       "      <td>0.397181</td>\n",
       "      <td>0.500003</td>\n",
       "      <td>6.762439</td>\n",
       "    </tr>\n",
       "    <tr>\n",
       "      <th>min</th>\n",
       "      <td>1.000000</td>\n",
       "      <td>55.000000</td>\n",
       "      <td>10.000000</td>\n",
       "      <td>-150.000000</td>\n",
       "      <td>-70.000000</td>\n",
       "      <td>1.000000</td>\n",
       "      <td>1.000000</td>\n",
       "      <td>0.000000</td>\n",
       "      <td>0.000000</td>\n",
       "      <td>0.000000</td>\n",
       "      <td>0.000000</td>\n",
       "      <td>29.000000</td>\n",
       "    </tr>\n",
       "    <tr>\n",
       "      <th>25%</th>\n",
       "      <td>1.000000</td>\n",
       "      <td>159.000000</td>\n",
       "      <td>65.000000</td>\n",
       "      <td>120.000000</td>\n",
       "      <td>80.000000</td>\n",
       "      <td>1.000000</td>\n",
       "      <td>1.000000</td>\n",
       "      <td>0.000000</td>\n",
       "      <td>0.000000</td>\n",
       "      <td>1.000000</td>\n",
       "      <td>0.000000</td>\n",
       "      <td>48.000000</td>\n",
       "    </tr>\n",
       "    <tr>\n",
       "      <th>50%</th>\n",
       "      <td>1.000000</td>\n",
       "      <td>165.000000</td>\n",
       "      <td>72.000000</td>\n",
       "      <td>120.000000</td>\n",
       "      <td>80.000000</td>\n",
       "      <td>1.000000</td>\n",
       "      <td>1.000000</td>\n",
       "      <td>0.000000</td>\n",
       "      <td>0.000000</td>\n",
       "      <td>1.000000</td>\n",
       "      <td>0.000000</td>\n",
       "      <td>53.000000</td>\n",
       "    </tr>\n",
       "    <tr>\n",
       "      <th>75%</th>\n",
       "      <td>2.000000</td>\n",
       "      <td>170.000000</td>\n",
       "      <td>82.000000</td>\n",
       "      <td>140.000000</td>\n",
       "      <td>90.000000</td>\n",
       "      <td>2.000000</td>\n",
       "      <td>1.000000</td>\n",
       "      <td>0.000000</td>\n",
       "      <td>0.000000</td>\n",
       "      <td>1.000000</td>\n",
       "      <td>1.000000</td>\n",
       "      <td>58.000000</td>\n",
       "    </tr>\n",
       "    <tr>\n",
       "      <th>max</th>\n",
       "      <td>2.000000</td>\n",
       "      <td>250.000000</td>\n",
       "      <td>200.000000</td>\n",
       "      <td>16020.000000</td>\n",
       "      <td>11000.000000</td>\n",
       "      <td>3.000000</td>\n",
       "      <td>3.000000</td>\n",
       "      <td>1.000000</td>\n",
       "      <td>1.000000</td>\n",
       "      <td>1.000000</td>\n",
       "      <td>1.000000</td>\n",
       "      <td>64.000000</td>\n",
       "    </tr>\n",
       "  </tbody>\n",
       "</table>\n",
       "</div>"
      ],
      "text/plain": [
       "             gender        height        weight  Systolic_blood_pressure  \\\n",
       "count  69999.000000  69999.000000  69999.000000             69999.000000   \n",
       "mean       1.349576    164.359277     74.204950               128.817075   \n",
       "std        0.476840      8.210033     14.394528               154.012486   \n",
       "min        1.000000     55.000000     10.000000              -150.000000   \n",
       "25%        1.000000    159.000000     65.000000               120.000000   \n",
       "50%        1.000000    165.000000     72.000000               120.000000   \n",
       "75%        2.000000    170.000000     82.000000               140.000000   \n",
       "max        2.000000    250.000000    200.000000             16020.000000   \n",
       "\n",
       "       Diastolic_blood_pressure   cholesterol       Glucose         smoke  \\\n",
       "count              69999.000000  69999.000000  69999.000000  69999.000000   \n",
       "mean                  96.630747      1.366862      1.226446      0.088130   \n",
       "std                  188.473864      0.680251      0.572267      0.283486   \n",
       "min                  -70.000000      1.000000      1.000000      0.000000   \n",
       "25%                   80.000000      1.000000      1.000000      0.000000   \n",
       "50%                   80.000000      1.000000      1.000000      0.000000   \n",
       "75%                   90.000000      2.000000      1.000000      0.000000   \n",
       "max                11000.000000      3.000000      3.000000      1.000000   \n",
       "\n",
       "       Alcohol_intake  Physical_activity  cardio_disease_presence  \\\n",
       "count    69999.000000       69999.000000             69999.000000   \n",
       "mean         0.053772           0.803726                 0.499693   \n",
       "std          0.225569           0.397181                 0.500003   \n",
       "min          0.000000           0.000000                 0.000000   \n",
       "25%          0.000000           1.000000                 0.000000   \n",
       "50%          0.000000           1.000000                 0.000000   \n",
       "75%          0.000000           1.000000                 1.000000   \n",
       "max          1.000000           1.000000                 1.000000   \n",
       "\n",
       "          age_years  \n",
       "count  69999.000000  \n",
       "mean      52.803140  \n",
       "std        6.762439  \n",
       "min       29.000000  \n",
       "25%       48.000000  \n",
       "50%       53.000000  \n",
       "75%       58.000000  \n",
       "max       64.000000  "
      ]
     },
     "execution_count": 575,
     "metadata": {},
     "output_type": "execute_result"
    }
   ],
   "source": [
    "Cardio_Disease.describe()"
   ]
  },
  {
   "cell_type": "code",
   "execution_count": 576,
   "id": "b3d3e0b2",
   "metadata": {},
   "outputs": [
    {
     "data": {
      "text/html": [
       "<div>\n",
       "<style scoped>\n",
       "    .dataframe tbody tr th:only-of-type {\n",
       "        vertical-align: middle;\n",
       "    }\n",
       "\n",
       "    .dataframe tbody tr th {\n",
       "        vertical-align: top;\n",
       "    }\n",
       "\n",
       "    .dataframe thead th {\n",
       "        text-align: right;\n",
       "    }\n",
       "</style>\n",
       "<table border=\"1\" class=\"dataframe\">\n",
       "  <thead>\n",
       "    <tr style=\"text-align: right;\">\n",
       "      <th></th>\n",
       "      <th>gender</th>\n",
       "      <th>height</th>\n",
       "      <th>weight</th>\n",
       "      <th>Systolic_blood_pressure</th>\n",
       "      <th>Diastolic_blood_pressure</th>\n",
       "      <th>cholesterol</th>\n",
       "      <th>Glucose</th>\n",
       "      <th>smoke</th>\n",
       "      <th>Alcohol_intake</th>\n",
       "      <th>Physical_activity</th>\n",
       "      <th>cardio_disease_presence</th>\n",
       "      <th>age_years</th>\n",
       "    </tr>\n",
       "  </thead>\n",
       "  <tbody>\n",
       "    <tr>\n",
       "      <th>gender</th>\n",
       "      <td>1.000000</td>\n",
       "      <td>0.499048</td>\n",
       "      <td>0.155458</td>\n",
       "      <td>0.006008</td>\n",
       "      <td>0.015255</td>\n",
       "      <td>-0.035812</td>\n",
       "      <td>-0.020477</td>\n",
       "      <td>0.338133</td>\n",
       "      <td>0.170965</td>\n",
       "      <td>0.005871</td>\n",
       "      <td>0.008120</td>\n",
       "      <td>-0.022749</td>\n",
       "    </tr>\n",
       "    <tr>\n",
       "      <th>height</th>\n",
       "      <td>0.499048</td>\n",
       "      <td>1.000000</td>\n",
       "      <td>0.290988</td>\n",
       "      <td>0.005485</td>\n",
       "      <td>0.006150</td>\n",
       "      <td>-0.050212</td>\n",
       "      <td>-0.018575</td>\n",
       "      <td>0.187991</td>\n",
       "      <td>0.094419</td>\n",
       "      <td>-0.006514</td>\n",
       "      <td>-0.010826</td>\n",
       "      <td>-0.081336</td>\n",
       "    </tr>\n",
       "    <tr>\n",
       "      <th>weight</th>\n",
       "      <td>0.155458</td>\n",
       "      <td>0.290988</td>\n",
       "      <td>1.000000</td>\n",
       "      <td>0.030701</td>\n",
       "      <td>0.043716</td>\n",
       "      <td>0.141734</td>\n",
       "      <td>0.106799</td>\n",
       "      <td>0.067803</td>\n",
       "      <td>0.067131</td>\n",
       "      <td>-0.016894</td>\n",
       "      <td>0.181626</td>\n",
       "      <td>0.053510</td>\n",
       "    </tr>\n",
       "    <tr>\n",
       "      <th>Systolic_blood_pressure</th>\n",
       "      <td>0.006008</td>\n",
       "      <td>0.005485</td>\n",
       "      <td>0.030701</td>\n",
       "      <td>1.000000</td>\n",
       "      <td>0.016086</td>\n",
       "      <td>0.023777</td>\n",
       "      <td>0.011840</td>\n",
       "      <td>-0.000922</td>\n",
       "      <td>0.001409</td>\n",
       "      <td>-0.000034</td>\n",
       "      <td>0.054472</td>\n",
       "      <td>0.020928</td>\n",
       "    </tr>\n",
       "    <tr>\n",
       "      <th>Diastolic_blood_pressure</th>\n",
       "      <td>0.015255</td>\n",
       "      <td>0.006150</td>\n",
       "      <td>0.043716</td>\n",
       "      <td>0.016086</td>\n",
       "      <td>1.000000</td>\n",
       "      <td>0.024021</td>\n",
       "      <td>0.010806</td>\n",
       "      <td>0.005186</td>\n",
       "      <td>0.010601</td>\n",
       "      <td>0.004781</td>\n",
       "      <td>0.065721</td>\n",
       "      <td>0.017553</td>\n",
       "    </tr>\n",
       "    <tr>\n",
       "      <th>cholesterol</th>\n",
       "      <td>-0.035812</td>\n",
       "      <td>-0.050212</td>\n",
       "      <td>0.141734</td>\n",
       "      <td>0.023777</td>\n",
       "      <td>0.024021</td>\n",
       "      <td>1.000000</td>\n",
       "      <td>0.451568</td>\n",
       "      <td>0.010359</td>\n",
       "      <td>0.035764</td>\n",
       "      <td>0.009905</td>\n",
       "      <td>0.221137</td>\n",
       "      <td>0.153985</td>\n",
       "    </tr>\n",
       "    <tr>\n",
       "      <th>Glucose</th>\n",
       "      <td>-0.020477</td>\n",
       "      <td>-0.018575</td>\n",
       "      <td>0.106799</td>\n",
       "      <td>0.011840</td>\n",
       "      <td>0.010806</td>\n",
       "      <td>0.451568</td>\n",
       "      <td>1.000000</td>\n",
       "      <td>-0.004751</td>\n",
       "      <td>0.011251</td>\n",
       "      <td>-0.006779</td>\n",
       "      <td>0.089289</td>\n",
       "      <td>0.098508</td>\n",
       "    </tr>\n",
       "    <tr>\n",
       "      <th>smoke</th>\n",
       "      <td>0.338133</td>\n",
       "      <td>0.187991</td>\n",
       "      <td>0.067803</td>\n",
       "      <td>-0.000922</td>\n",
       "      <td>0.005186</td>\n",
       "      <td>0.010359</td>\n",
       "      <td>-0.004751</td>\n",
       "      <td>1.000000</td>\n",
       "      <td>0.340093</td>\n",
       "      <td>0.025860</td>\n",
       "      <td>-0.015482</td>\n",
       "      <td>-0.047474</td>\n",
       "    </tr>\n",
       "    <tr>\n",
       "      <th>Alcohol_intake</th>\n",
       "      <td>0.170965</td>\n",
       "      <td>0.094419</td>\n",
       "      <td>0.067131</td>\n",
       "      <td>0.001409</td>\n",
       "      <td>0.010601</td>\n",
       "      <td>0.035764</td>\n",
       "      <td>0.011251</td>\n",
       "      <td>0.340093</td>\n",
       "      <td>1.000000</td>\n",
       "      <td>0.025478</td>\n",
       "      <td>-0.007327</td>\n",
       "      <td>-0.029670</td>\n",
       "    </tr>\n",
       "    <tr>\n",
       "      <th>Physical_activity</th>\n",
       "      <td>0.005871</td>\n",
       "      <td>-0.006514</td>\n",
       "      <td>-0.016894</td>\n",
       "      <td>-0.000034</td>\n",
       "      <td>0.004781</td>\n",
       "      <td>0.009905</td>\n",
       "      <td>-0.006779</td>\n",
       "      <td>0.025860</td>\n",
       "      <td>0.025478</td>\n",
       "      <td>1.000000</td>\n",
       "      <td>-0.035661</td>\n",
       "      <td>-0.009812</td>\n",
       "    </tr>\n",
       "    <tr>\n",
       "      <th>cardio_disease_presence</th>\n",
       "      <td>0.008120</td>\n",
       "      <td>-0.010826</td>\n",
       "      <td>0.181626</td>\n",
       "      <td>0.054472</td>\n",
       "      <td>0.065721</td>\n",
       "      <td>0.221137</td>\n",
       "      <td>0.089289</td>\n",
       "      <td>-0.015482</td>\n",
       "      <td>-0.007327</td>\n",
       "      <td>-0.035661</td>\n",
       "      <td>1.000000</td>\n",
       "      <td>0.237936</td>\n",
       "    </tr>\n",
       "    <tr>\n",
       "      <th>age_years</th>\n",
       "      <td>-0.022749</td>\n",
       "      <td>-0.081336</td>\n",
       "      <td>0.053510</td>\n",
       "      <td>0.020928</td>\n",
       "      <td>0.017553</td>\n",
       "      <td>0.153985</td>\n",
       "      <td>0.098508</td>\n",
       "      <td>-0.047474</td>\n",
       "      <td>-0.029670</td>\n",
       "      <td>-0.009812</td>\n",
       "      <td>0.237936</td>\n",
       "      <td>1.000000</td>\n",
       "    </tr>\n",
       "  </tbody>\n",
       "</table>\n",
       "</div>"
      ],
      "text/plain": [
       "                            gender    height    weight  \\\n",
       "gender                    1.000000  0.499048  0.155458   \n",
       "height                    0.499048  1.000000  0.290988   \n",
       "weight                    0.155458  0.290988  1.000000   \n",
       "Systolic_blood_pressure   0.006008  0.005485  0.030701   \n",
       "Diastolic_blood_pressure  0.015255  0.006150  0.043716   \n",
       "cholesterol              -0.035812 -0.050212  0.141734   \n",
       "Glucose                  -0.020477 -0.018575  0.106799   \n",
       "smoke                     0.338133  0.187991  0.067803   \n",
       "Alcohol_intake            0.170965  0.094419  0.067131   \n",
       "Physical_activity         0.005871 -0.006514 -0.016894   \n",
       "cardio_disease_presence   0.008120 -0.010826  0.181626   \n",
       "age_years                -0.022749 -0.081336  0.053510   \n",
       "\n",
       "                          Systolic_blood_pressure  Diastolic_blood_pressure  \\\n",
       "gender                                   0.006008                  0.015255   \n",
       "height                                   0.005485                  0.006150   \n",
       "weight                                   0.030701                  0.043716   \n",
       "Systolic_blood_pressure                  1.000000                  0.016086   \n",
       "Diastolic_blood_pressure                 0.016086                  1.000000   \n",
       "cholesterol                              0.023777                  0.024021   \n",
       "Glucose                                  0.011840                  0.010806   \n",
       "smoke                                   -0.000922                  0.005186   \n",
       "Alcohol_intake                           0.001409                  0.010601   \n",
       "Physical_activity                       -0.000034                  0.004781   \n",
       "cardio_disease_presence                  0.054472                  0.065721   \n",
       "age_years                                0.020928                  0.017553   \n",
       "\n",
       "                          cholesterol   Glucose     smoke  Alcohol_intake  \\\n",
       "gender                      -0.035812 -0.020477  0.338133        0.170965   \n",
       "height                      -0.050212 -0.018575  0.187991        0.094419   \n",
       "weight                       0.141734  0.106799  0.067803        0.067131   \n",
       "Systolic_blood_pressure      0.023777  0.011840 -0.000922        0.001409   \n",
       "Diastolic_blood_pressure     0.024021  0.010806  0.005186        0.010601   \n",
       "cholesterol                  1.000000  0.451568  0.010359        0.035764   \n",
       "Glucose                      0.451568  1.000000 -0.004751        0.011251   \n",
       "smoke                        0.010359 -0.004751  1.000000        0.340093   \n",
       "Alcohol_intake               0.035764  0.011251  0.340093        1.000000   \n",
       "Physical_activity            0.009905 -0.006779  0.025860        0.025478   \n",
       "cardio_disease_presence      0.221137  0.089289 -0.015482       -0.007327   \n",
       "age_years                    0.153985  0.098508 -0.047474       -0.029670   \n",
       "\n",
       "                          Physical_activity  cardio_disease_presence  \\\n",
       "gender                             0.005871                 0.008120   \n",
       "height                            -0.006514                -0.010826   \n",
       "weight                            -0.016894                 0.181626   \n",
       "Systolic_blood_pressure           -0.000034                 0.054472   \n",
       "Diastolic_blood_pressure           0.004781                 0.065721   \n",
       "cholesterol                        0.009905                 0.221137   \n",
       "Glucose                           -0.006779                 0.089289   \n",
       "smoke                              0.025860                -0.015482   \n",
       "Alcohol_intake                     0.025478                -0.007327   \n",
       "Physical_activity                  1.000000                -0.035661   \n",
       "cardio_disease_presence           -0.035661                 1.000000   \n",
       "age_years                         -0.009812                 0.237936   \n",
       "\n",
       "                          age_years  \n",
       "gender                    -0.022749  \n",
       "height                    -0.081336  \n",
       "weight                     0.053510  \n",
       "Systolic_blood_pressure    0.020928  \n",
       "Diastolic_blood_pressure   0.017553  \n",
       "cholesterol                0.153985  \n",
       "Glucose                    0.098508  \n",
       "smoke                     -0.047474  \n",
       "Alcohol_intake            -0.029670  \n",
       "Physical_activity         -0.009812  \n",
       "cardio_disease_presence    0.237936  \n",
       "age_years                  1.000000  "
      ]
     },
     "execution_count": 576,
     "metadata": {},
     "output_type": "execute_result"
    }
   ],
   "source": [
    "Cardio_Disease.corr()"
   ]
  },
  {
   "cell_type": "code",
   "execution_count": 577,
   "id": "d6462f7a",
   "metadata": {},
   "outputs": [
    {
     "data": {
      "image/png": "[encoded data removed]",
      "text/plain": [
       "<Figure size 432x288 with 1 Axes>"
      ]
     },
     "metadata": {
      "needs_background": "light"
     },
     "output_type": "display_data"
    }
   ],
   "source": [
    "# Cardio_Disease['age_years'].value_counts()\n",
    "import matplotlib.pyplot as plt\n",
    "age_boxplot = Cardio_Disease.boxplot(column=['age_years'], color='#34A198')\n",
    "plt.title(\"Age boxplot\", family='serif',fontsize = 15, color='#21635D')\n",
    "age_boxplot\n",
    "plt.savefig('C:/Users/Omar/Downloads/age_boxplo.png')\n",
    "\n"
   ]
  },
  {
   "cell_type": "markdown",
   "id": "79595c2a",
   "metadata": {},
   "source": [
    "#### - drop the outliers"
   ]
  },
  {
   "cell_type": "code",
   "execution_count": 578,
   "id": "b9fc35d9",
   "metadata": {},
   "outputs": [
    {
     "data": {
      "text/plain": [
       "55    4225\n",
       "53    4166\n",
       "57    3987\n",
       "59    3844\n",
       "49    3664\n",
       "51    3601\n",
       "54    3309\n",
       "56    3307\n",
       "58    3110\n",
       "52    3043\n",
       "50    2971\n",
       "63    2937\n",
       "60    2933\n",
       "61    2932\n",
       "47    2303\n",
       "45    2214\n",
       "43    2137\n",
       "41    2004\n",
       "62    1991\n",
       "64    1986\n",
       "39    1880\n",
       "48    1705\n",
       "40    1524\n",
       "46    1499\n",
       "44    1408\n",
       "42    1315\n",
       "29       3\n",
       "30       1\n",
       "Name: age_years, dtype: int64"
      ]
     },
     "execution_count": 578,
     "metadata": {},
     "output_type": "execute_result"
    }
   ],
   "source": [
    "Cardio_Disease['age_years'].value_counts()"
   ]
  },
  {
   "cell_type": "code",
   "execution_count": 579,
   "id": "589bda5a",
   "metadata": {},
   "outputs": [],
   "source": [
    "index1 = Cardio_Disease[Cardio_Disease['age_years'] == 30 ].index"
   ]
  },
  {
   "cell_type": "code",
   "execution_count": 580,
   "id": "97a02097",
   "metadata": {},
   "outputs": [],
   "source": [
    "index2 = Cardio_Disease[Cardio_Disease['age_years'] == 29 ].index"
   ]
  },
  {
   "cell_type": "code",
   "execution_count": 581,
   "id": "088b3bcc",
   "metadata": {},
   "outputs": [
    {
     "name": "stdout",
     "output_type": "stream",
     "text": [
      "<class 'pandas.core.frame.DataFrame'>\n",
      "Int64Index: 69999 entries, 0 to 69999\n",
      "Data columns (total 12 columns):\n",
      " #   Column                    Non-Null Count  Dtype  \n",
      "---  ------                    --------------  -----  \n",
      " 0   gender                    69999 non-null  int64  \n",
      " 1   height                    69999 non-null  float64\n",
      " 2   weight                    69999 non-null  float64\n",
      " 3   Systolic_blood_pressure   69999 non-null  float64\n",
      " 4   Diastolic_blood_pressure  69999 non-null  float64\n",
      " 5   cholesterol               69999 non-null  int64  \n",
      " 6   Glucose                   69999 non-null  int64  \n",
      " 7   smoke                     69999 non-null  float64\n",
      " 8   Alcohol_intake            69999 non-null  int64  \n",
      " 9   Physical_activity         69999 non-null  int64  \n",
      " 10  cardio_disease_presence   69999 non-null  int64  \n",
      " 11  age_years                 69999 non-null  int32  \n",
      "dtypes: float64(5), int32(1), int64(6)\n",
      "memory usage: 6.7 MB\n"
     ]
    }
   ],
   "source": [
    "# Cardio_Disease.drop(index1,inplace = True)\n",
    "# Cardio_Disease.drop(index2,inplace = True)\n",
    "Cardio_Disease.info()"
   ]
  },
  {
   "cell_type": "code",
   "execution_count": 591,
   "id": "47bebb72",
   "metadata": {},
   "outputs": [
    {
     "data": {
      "text/plain": [
       "(array([4.0000e+00, 0.0000e+00, 1.8800e+03, 4.8430e+03, 7.2580e+03,\n",
       "        7.6720e+03, 1.3781e+04, 1.0841e+04, 1.3874e+04, 9.8460e+03]),\n",
       " array([29. , 32.5, 36. , 39.5, 43. , 46.5, 50. , 53.5, 57. , 60.5, 64. ]),\n",
       " <BarContainer object of 10 artists>)"
      ]
     },
     "execution_count": 591,
     "metadata": {},
     "output_type": "execute_result"
    },
    {
     "data": {
      "image/png": "[encoded data removed]",
      "text/plain": [
       "<Figure size 432x288 with 1 Axes>"
      ]
     },
     "metadata": {
      "needs_background": "light"
     },
     "output_type": "display_data"
    }
   ],
   "source": [
    "# 21635D\n",
    "age_hist = plt.hist(Cardio_Disease['age_years'], bins = 10, color='#34A198', edgecolor = '#21635D')\n",
    "plt.title('Age distribution', color = '#21635D', fontsize = 15)\n",
    "plt.savefig('C:/Users/Omar/Downloads/age_distribution.png')\n",
    "age_hist"
   ]
  },
  {
   "cell_type": "markdown",
   "id": "944d08d4",
   "metadata": {},
   "source": [
    "#### - the average age for heart disease presence and no presence "
   ]
  },
  {
   "cell_type": "code",
   "execution_count": 583,
   "id": "dcf95f87",
   "metadata": {},
   "outputs": [
    {
     "data": {
      "text/html": [
       "<div>\n",
       "<style scoped>\n",
       "    .dataframe tbody tr th:only-of-type {\n",
       "        vertical-align: middle;\n",
       "    }\n",
       "\n",
       "    .dataframe tbody tr th {\n",
       "        vertical-align: top;\n",
       "    }\n",
       "\n",
       "    .dataframe thead th {\n",
       "        text-align: right;\n",
       "    }\n",
       "</style>\n",
       "<table border=\"1\" class=\"dataframe\">\n",
       "  <thead>\n",
       "    <tr style=\"text-align: right;\">\n",
       "      <th></th>\n",
       "      <th>age_years</th>\n",
       "    </tr>\n",
       "    <tr>\n",
       "      <th>cardio_disease_presence</th>\n",
       "      <th></th>\n",
       "    </tr>\n",
       "  </thead>\n",
       "  <tbody>\n",
       "    <tr>\n",
       "      <th>0</th>\n",
       "      <td>51.195112</td>\n",
       "    </tr>\n",
       "    <tr>\n",
       "      <th>1</th>\n",
       "      <td>54.413145</td>\n",
       "    </tr>\n",
       "  </tbody>\n",
       "</table>\n",
       "</div>"
      ],
      "text/plain": [
       "                         age_years\n",
       "cardio_disease_presence           \n",
       "0                        51.195112\n",
       "1                        54.413145"
      ]
     },
     "execution_count": 583,
     "metadata": {},
     "output_type": "execute_result"
    }
   ],
   "source": [
    "Cardio_Disease.groupby('cardio_disease_presence')[['age_years']].mean()"
   ]
  },
  {
   "cell_type": "code",
   "execution_count": 594,
   "id": "09ebe5f4",
   "metadata": {},
   "outputs": [
    {
     "data": {
      "text/plain": [
       "55    4225\n",
       "53    4166\n",
       "57    3987\n",
       "59    3844\n",
       "49    3664\n",
       "51    3601\n",
       "54    3309\n",
       "56    3307\n",
       "58    3110\n",
       "52    3043\n",
       "50    2971\n",
       "63    2937\n",
       "60    2933\n",
       "61    2932\n",
       "47    2303\n",
       "45    2214\n",
       "43    2137\n",
       "41    2004\n",
       "62    1991\n",
       "64    1986\n",
       "39    1880\n",
       "48    1705\n",
       "40    1524\n",
       "46    1499\n",
       "44    1408\n",
       "42    1315\n",
       "29       3\n",
       "30       1\n",
       "Name: age_years, dtype: int64"
      ]
     },
     "execution_count": 594,
     "metadata": {},
     "output_type": "execute_result"
    }
   ],
   "source": [
    "Cardio_Disease.age_years.value_counts()"
   ]
  },
  {
   "cell_type": "code",
   "execution_count": 584,
   "id": "941f5ccc",
   "metadata": {},
   "outputs": [
    {
     "data": {
      "text/plain": [
       "64"
      ]
     },
     "execution_count": 584,
     "metadata": {},
     "output_type": "execute_result"
    }
   ],
   "source": [
    "Cardio_Disease.age_years.max()"
   ]
  },
  {
   "cell_type": "code",
   "execution_count": 585,
   "id": "fb8a75c3",
   "metadata": {},
   "outputs": [
    {
     "data": {
      "text/plain": [
       "<AxesSubplot:title={'center':'Age boxplot'}>"
      ]
     },
     "execution_count": 585,
     "metadata": {},
     "output_type": "execute_result"
    },
    {
     "data": {
      "image/png": "[encoded data removed]",
      "text/plain": [
       "<Figure size 432x288 with 1 Axes>"
      ]
     },
     "metadata": {
      "needs_background": "light"
     },
     "output_type": "display_data"
    }
   ],
   "source": [
    "cholesterol_age_boxplot = Cardio_Disease.boxplot(by = 'cholesterol' , column=['age_years'], color='#34A198')\n",
    "plt.title(' ')\n",
    "plt.ylabel('age in years')\n",
    "plt.xlabel('cholesterol levels')\n",
    "plt.savefig('C:/Users/Omar/Downloads/age in years grouped by cholesterol levels.png')\n",
    "age_boxplot\n"
   ]
  },
  {
   "cell_type": "markdown",
   "id": "88cfe807",
   "metadata": {},
   "source": [
    "#### - Categorize blood pressure levels "
   ]
  },
  {
   "cell_type": "code",
   "execution_count": 586,
   "id": "604cae94",
   "metadata": {},
   "outputs": [],
   "source": [
    "Cardio_Disease['Systolic_blood_pressure'] = Cardio_Disease.Systolic_blood_pressure.astype('int')\n",
    "Cardio_Disease['Diastolic_blood_pressure'] = Cardio_Disease.Diastolic_blood_pressure.astype('int')"
   ]
  },
  {
   "cell_type": "code",
   "execution_count": 596,
   "id": "945d780a",
   "metadata": {},
   "outputs": [],
   "source": [
    "def Blood_pressure(s,d):\n",
    "    if (s < 120 and d < 80):\n",
    "        return 'Normal'\n",
    "    elif( s >= 140 and d >= 90):\n",
    "        return 'High blood pressure'\n",
    "    else:\n",
    "        return 'At risk'\n",
    "    \n",
    "# elif((120 <= s <= 139 ) and (80 <= d <= 89 )): - return 'At risk'"
   ]
  },
  {
   "cell_type": "code",
   "execution_count": 597,
   "id": "ac799ea8",
   "metadata": {
    "scrolled": true
   },
   "outputs": [
    {
     "data": {
      "text/plain": [
       "array(['At risk', 'High blood pressure', 'Normal'], dtype=object)"
      ]
     },
     "execution_count": 597,
     "metadata": {},
     "output_type": "execute_result"
    }
   ],
   "source": [
    "Cardio_Disease['Blood_pressure'] = Cardio_Disease.apply(lambda x: Blood_pressure(x['Systolic_blood_pressure'], x['Diastolic_blood_pressure']), axis = 1)\n",
    "Cardio_Disease.Blood_pressure.unique()"
   ]
  },
  {
   "cell_type": "code",
   "execution_count": 598,
   "id": "2cc981c5",
   "metadata": {},
   "outputs": [
    {
     "data": {
      "text/plain": [
       "At risk                45262\n",
       "High blood pressure    15129\n",
       "Normal                  9608\n",
       "Name: Blood_pressure, dtype: int64"
      ]
     },
     "execution_count": 598,
     "metadata": {},
     "output_type": "execute_result"
    }
   ],
   "source": [
    "Cardio_Disease.Blood_pressure.value_counts()"
   ]
  },
  {
   "cell_type": "code",
   "execution_count": 599,
   "id": "dca4bfa3",
   "metadata": {},
   "outputs": [
    {
     "data": {
      "text/html": [
       "<div>\n",
       "<style scoped>\n",
       "    .dataframe tbody tr th:only-of-type {\n",
       "        vertical-align: middle;\n",
       "    }\n",
       "\n",
       "    .dataframe tbody tr th {\n",
       "        vertical-align: top;\n",
       "    }\n",
       "\n",
       "    .dataframe thead th {\n",
       "        text-align: right;\n",
       "    }\n",
       "</style>\n",
       "<table border=\"1\" class=\"dataframe\">\n",
       "  <thead>\n",
       "    <tr style=\"text-align: right;\">\n",
       "      <th></th>\n",
       "      <th>gender</th>\n",
       "      <th>height</th>\n",
       "      <th>weight</th>\n",
       "      <th>Systolic_blood_pressure</th>\n",
       "      <th>Diastolic_blood_pressure</th>\n",
       "      <th>cholesterol</th>\n",
       "      <th>Glucose</th>\n",
       "      <th>smoke</th>\n",
       "      <th>Alcohol_intake</th>\n",
       "      <th>Physical_activity</th>\n",
       "      <th>cardio_disease_presence</th>\n",
       "      <th>age_years</th>\n",
       "      <th>Blood_pressure</th>\n",
       "    </tr>\n",
       "  </thead>\n",
       "  <tbody>\n",
       "    <tr>\n",
       "      <th>0</th>\n",
       "      <td>2</td>\n",
       "      <td>168.0</td>\n",
       "      <td>62.0</td>\n",
       "      <td>110</td>\n",
       "      <td>80</td>\n",
       "      <td>1</td>\n",
       "      <td>1</td>\n",
       "      <td>0.0</td>\n",
       "      <td>0</td>\n",
       "      <td>1</td>\n",
       "      <td>0</td>\n",
       "      <td>50</td>\n",
       "      <td>At risk</td>\n",
       "    </tr>\n",
       "    <tr>\n",
       "      <th>1</th>\n",
       "      <td>1</td>\n",
       "      <td>156.0</td>\n",
       "      <td>85.0</td>\n",
       "      <td>140</td>\n",
       "      <td>90</td>\n",
       "      <td>3</td>\n",
       "      <td>1</td>\n",
       "      <td>0.0</td>\n",
       "      <td>0</td>\n",
       "      <td>1</td>\n",
       "      <td>1</td>\n",
       "      <td>55</td>\n",
       "      <td>High blood pressure</td>\n",
       "    </tr>\n",
       "    <tr>\n",
       "      <th>2</th>\n",
       "      <td>1</td>\n",
       "      <td>165.0</td>\n",
       "      <td>64.0</td>\n",
       "      <td>130</td>\n",
       "      <td>70</td>\n",
       "      <td>3</td>\n",
       "      <td>1</td>\n",
       "      <td>0.0</td>\n",
       "      <td>0</td>\n",
       "      <td>0</td>\n",
       "      <td>1</td>\n",
       "      <td>51</td>\n",
       "      <td>At risk</td>\n",
       "    </tr>\n",
       "    <tr>\n",
       "      <th>3</th>\n",
       "      <td>2</td>\n",
       "      <td>169.0</td>\n",
       "      <td>82.0</td>\n",
       "      <td>150</td>\n",
       "      <td>100</td>\n",
       "      <td>1</td>\n",
       "      <td>1</td>\n",
       "      <td>0.0</td>\n",
       "      <td>0</td>\n",
       "      <td>1</td>\n",
       "      <td>1</td>\n",
       "      <td>48</td>\n",
       "      <td>High blood pressure</td>\n",
       "    </tr>\n",
       "    <tr>\n",
       "      <th>4</th>\n",
       "      <td>1</td>\n",
       "      <td>156.0</td>\n",
       "      <td>56.0</td>\n",
       "      <td>100</td>\n",
       "      <td>60</td>\n",
       "      <td>1</td>\n",
       "      <td>1</td>\n",
       "      <td>0.0</td>\n",
       "      <td>0</td>\n",
       "      <td>0</td>\n",
       "      <td>0</td>\n",
       "      <td>47</td>\n",
       "      <td>Normal</td>\n",
       "    </tr>\n",
       "  </tbody>\n",
       "</table>\n",
       "</div>"
      ],
      "text/plain": [
       "   gender  height  weight  Systolic_blood_pressure  Diastolic_blood_pressure  \\\n",
       "0       2   168.0    62.0                      110                        80   \n",
       "1       1   156.0    85.0                      140                        90   \n",
       "2       1   165.0    64.0                      130                        70   \n",
       "3       2   169.0    82.0                      150                       100   \n",
       "4       1   156.0    56.0                      100                        60   \n",
       "\n",
       "   cholesterol  Glucose  smoke  Alcohol_intake  Physical_activity  \\\n",
       "0            1        1    0.0               0                  1   \n",
       "1            3        1    0.0               0                  1   \n",
       "2            3        1    0.0               0                  0   \n",
       "3            1        1    0.0               0                  1   \n",
       "4            1        1    0.0               0                  0   \n",
       "\n",
       "   cardio_disease_presence  age_years       Blood_pressure  \n",
       "0                        0         50              At risk  \n",
       "1                        1         55  High blood pressure  \n",
       "2                        1         51              At risk  \n",
       "3                        1         48  High blood pressure  \n",
       "4                        0         47               Normal  "
      ]
     },
     "execution_count": 599,
     "metadata": {},
     "output_type": "execute_result"
    }
   ],
   "source": [
    "Cardio_Disease.head()"
   ]
  },
  {
   "cell_type": "code",
   "execution_count": null,
   "id": "339809b2",
   "metadata": {},
   "outputs": [],
   "source": []
  }
 ],
 "metadata": {
  "kernelspec": {
   "display_name": "Python 3",
   "language": "python",
   "name": "python3"
  },
  "language_info": {
   "codemirror_mode": {
    "name": "ipython",
    "version": 3
   },
   "file_extension": ".py",
   "mimetype": "text/x-python",
   "name": "python",
   "nbconvert_exporter": "python",
   "pygments_lexer": "ipython3",
   "version": "3.8.8"
  }
 },
 "nbformat": 4,
 "nbformat_minor": 5
}
